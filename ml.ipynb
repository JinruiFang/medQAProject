{
 "cells": [
  {
   "cell_type": "code",
   "execution_count": 3,
   "metadata": {},
   "outputs": [],
   "source": [
    "import textwrap\n",
    "from datasets import load_dataset\n",
    "from transformers import pipeline\n",
    "from truthfulqa import MultipleChoicePipeline"
   ]
  },
  {
   "cell_type": "code",
   "execution_count": 39,
   "metadata": {},
   "outputs": [],
   "source": [
    "medqa = load_dataset(\"bigbio/med_qa\", split=\"validation[:10]\")"
   ]
  },
  {
   "cell_type": "code",
   "execution_count": 40,
   "metadata": {},
   "outputs": [
    {
     "data": {
      "text/plain": [
       "Dataset({\n",
       "    features: ['meta_info', 'question', 'answer_idx', 'answer', 'options'],\n",
       "    num_rows: 10\n",
       "})"
      ]
     },
     "execution_count": 40,
     "metadata": {},
     "output_type": "execute_result"
    }
   ],
   "source": [
    "medqa"
   ]
  },
  {
   "cell_type": "code",
   "execution_count": 41,
   "metadata": {},
   "outputs": [],
   "source": [
    "def update_dataset(example):\n",
    "    # Numeric conversion for answer indices\n",
    "    choice_to_numeric = {'A': 0, 'B': 1, 'C': 2, 'D': 3, 'E': 4}\n",
    "    if example['answer_idx'] in choice_to_numeric:\n",
    "        example['label'] = choice_to_numeric[example['answer_idx']]\n",
    "    else:\n",
    "        example['label'] = None  # Or some default value\n",
    "    \n",
    "    # Extracting choice values\n",
    "    example['choices'] = [item['value'] for item in example['options']]\n",
    "    return example\n",
    "\n",
    "updated_dataset = medqa.map(update_dataset)"
   ]
  },
  {
   "cell_type": "code",
   "execution_count": 42,
   "metadata": {},
   "outputs": [
    {
     "data": {
      "text/plain": [
       "Dataset({\n",
       "    features: ['meta_info', 'question', 'answer_idx', 'answer', 'options'],\n",
       "    num_rows: 10\n",
       "})"
      ]
     },
     "execution_count": 42,
     "metadata": {},
     "output_type": "execute_result"
    }
   ],
   "source": [
    "medqa"
   ]
  },
  {
   "cell_type": "code",
   "execution_count": 43,
   "metadata": {},
   "outputs": [
    {
     "name": "stdout",
     "output_type": "stream",
     "text": [
      "Question: A 21-year-old sexually active male complains of fever, pain during urination, and inflammation and pain in the right knee. A culture of the joint fluid shows a bacteria that does not ferment maltose and has no polysaccharide capsule. The physician orders antibiotic therapy for the patient. The mechanism of action of action of the medication given blocks cell wall synthesis, which of the following was given?\n",
      "\n",
      "Answer Choices:\n",
      " 0. Chloramphenicol\n",
      " 1. Gentamicin\n",
      " 2. Ciprofloxacin\n",
      " 3. Ceftriaxone\n",
      " 4. Trimethoprim\n",
      "\n",
      "Correct Answer: 3\n"
     ]
    }
   ],
   "source": [
    "q1 = updated_dataset[0]\n",
    "print(f\"Question: {q1['question']}\\n\\nAnswer Choices:\")\n",
    "for i, c in enumerate(q1[\"options\"]):\n",
    "    print(f\" {i}. {textwrap.fill(c['value'], subsequent_indent=' ' * 4)}\")\n",
    "print(f\"\\nCorrect Answer: {q1['label']}\")"
   ]
  },
  {
   "cell_type": "code",
   "execution_count": 44,
   "metadata": {},
   "outputs": [
    {
     "name": "stderr",
     "output_type": "stream",
     "text": [
      "If you want to use `BertLMHeadModel` as a standalone, add `is_decoder=True.`\n"
     ]
    }
   ],
   "source": [
    "# Use \n",
    "generator = pipeline(\"text-generation\", model=\"dmis-lab/biobert-base-cased-v1.1\")"
   ]
  },
  {
   "cell_type": "code",
   "execution_count": 45,
   "metadata": {},
   "outputs": [
    {
     "name": "stderr",
     "output_type": "stream",
     "text": [
      "If you want to use `BertLMHeadModel` as a standalone, add `is_decoder=True.`\n"
     ]
    }
   ],
   "source": [
    "lm = MultipleChoicePipeline(model=\"dmis-lab/biobert-base-cased-v1.1\")"
   ]
  },
  {
   "cell_type": "code",
   "execution_count": 46,
   "metadata": {},
   "outputs": [
    {
     "data": {
      "text/plain": [
       "['Q: A 21-year-old sexually active male complains of fever, pain during urination, and inflammation and pain in the right knee. A culture of the joint fluid shows a bacteria that does not ferment maltose and has no polysaccharide capsule. The physician orders antibiotic therapy for the patient. The mechanism of action of action of the medication given blocks cell wall synthesis, which of the following was given?\\nA: Chloramphenicol',\n",
       " 'Q: A 21-year-old sexually active male complains of fever, pain during urination, and inflammation and pain in the right knee. A culture of the joint fluid shows a bacteria that does not ferment maltose and has no polysaccharide capsule. The physician orders antibiotic therapy for the patient. The mechanism of action of action of the medication given blocks cell wall synthesis, which of the following was given?\\nA: Gentamicin',\n",
       " 'Q: A 21-year-old sexually active male complains of fever, pain during urination, and inflammation and pain in the right knee. A culture of the joint fluid shows a bacteria that does not ferment maltose and has no polysaccharide capsule. The physician orders antibiotic therapy for the patient. The mechanism of action of action of the medication given blocks cell wall synthesis, which of the following was given?\\nA: Ciprofloxacin',\n",
       " 'Q: A 21-year-old sexually active male complains of fever, pain during urination, and inflammation and pain in the right knee. A culture of the joint fluid shows a bacteria that does not ferment maltose and has no polysaccharide capsule. The physician orders antibiotic therapy for the patient. The mechanism of action of action of the medication given blocks cell wall synthesis, which of the following was given?\\nA: Ceftriaxone',\n",
       " 'Q: A 21-year-old sexually active male complains of fever, pain during urination, and inflammation and pain in the right knee. A culture of the joint fluid shows a bacteria that does not ferment maltose and has no polysaccharide capsule. The physician orders antibiotic therapy for the patient. The mechanism of action of action of the medication given blocks cell wall synthesis, which of the following was given?\\nA: Trimethoprim',\n",
       " 'Q: A 5-year-old girl is brought to the emergency department by her mother because of multiple episodes of nausea and vomiting that last about 2 hours. During this period, she has had 6–8 episodes of bilious vomiting and abdominal pain. The vomiting was preceded by fatigue. The girl feels well between these episodes. She has missed several days of school and has been hospitalized 2 times during the past 6 months for dehydration due to similar episodes of vomiting and nausea. The patient has lived with her mother since her parents divorced 8 months ago. Her immunizations are up-to-date. She is at the 60th percentile for height and 30th percentile for weight. She appears emaciated. Her temperature is 36.8°C (98.8°F), pulse is 99/min, and blood pressure is 82/52 mm Hg. Examination shows dry mucous membranes. The lungs are clear to auscultation. Abdominal examination shows a soft abdomen with mild diffuse tenderness with no guarding or rebound. The remainder of the physical examination shows no abnormalities. Which of the following is the most likely diagnosis?\\nA: Cyclic vomiting syndrome',\n",
       " 'Q: A 5-year-old girl is brought to the emergency department by her mother because of multiple episodes of nausea and vomiting that last about 2 hours. During this period, she has had 6–8 episodes of bilious vomiting and abdominal pain. The vomiting was preceded by fatigue. The girl feels well between these episodes. She has missed several days of school and has been hospitalized 2 times during the past 6 months for dehydration due to similar episodes of vomiting and nausea. The patient has lived with her mother since her parents divorced 8 months ago. Her immunizations are up-to-date. She is at the 60th percentile for height and 30th percentile for weight. She appears emaciated. Her temperature is 36.8°C (98.8°F), pulse is 99/min, and blood pressure is 82/52 mm Hg. Examination shows dry mucous membranes. The lungs are clear to auscultation. Abdominal examination shows a soft abdomen with mild diffuse tenderness with no guarding or rebound. The remainder of the physical examination shows no abnormalities. Which of the following is the most likely diagnosis?\\nA: Gastroenteritis',\n",
       " 'Q: A 5-year-old girl is brought to the emergency department by her mother because of multiple episodes of nausea and vomiting that last about 2 hours. During this period, she has had 6–8 episodes of bilious vomiting and abdominal pain. The vomiting was preceded by fatigue. The girl feels well between these episodes. She has missed several days of school and has been hospitalized 2 times during the past 6 months for dehydration due to similar episodes of vomiting and nausea. The patient has lived with her mother since her parents divorced 8 months ago. Her immunizations are up-to-date. She is at the 60th percentile for height and 30th percentile for weight. She appears emaciated. Her temperature is 36.8°C (98.8°F), pulse is 99/min, and blood pressure is 82/52 mm Hg. Examination shows dry mucous membranes. The lungs are clear to auscultation. Abdominal examination shows a soft abdomen with mild diffuse tenderness with no guarding or rebound. The remainder of the physical examination shows no abnormalities. Which of the following is the most likely diagnosis?\\nA: Hypertrophic pyloric stenosis',\n",
       " 'Q: A 5-year-old girl is brought to the emergency department by her mother because of multiple episodes of nausea and vomiting that last about 2 hours. During this period, she has had 6–8 episodes of bilious vomiting and abdominal pain. The vomiting was preceded by fatigue. The girl feels well between these episodes. She has missed several days of school and has been hospitalized 2 times during the past 6 months for dehydration due to similar episodes of vomiting and nausea. The patient has lived with her mother since her parents divorced 8 months ago. Her immunizations are up-to-date. She is at the 60th percentile for height and 30th percentile for weight. She appears emaciated. Her temperature is 36.8°C (98.8°F), pulse is 99/min, and blood pressure is 82/52 mm Hg. Examination shows dry mucous membranes. The lungs are clear to auscultation. Abdominal examination shows a soft abdomen with mild diffuse tenderness with no guarding or rebound. The remainder of the physical examination shows no abnormalities. Which of the following is the most likely diagnosis?\\nA: Gastroesophageal reflux disease',\n",
       " 'Q: A 5-year-old girl is brought to the emergency department by her mother because of multiple episodes of nausea and vomiting that last about 2 hours. During this period, she has had 6–8 episodes of bilious vomiting and abdominal pain. The vomiting was preceded by fatigue. The girl feels well between these episodes. She has missed several days of school and has been hospitalized 2 times during the past 6 months for dehydration due to similar episodes of vomiting and nausea. The patient has lived with her mother since her parents divorced 8 months ago. Her immunizations are up-to-date. She is at the 60th percentile for height and 30th percentile for weight. She appears emaciated. Her temperature is 36.8°C (98.8°F), pulse is 99/min, and blood pressure is 82/52 mm Hg. Examination shows dry mucous membranes. The lungs are clear to auscultation. Abdominal examination shows a soft abdomen with mild diffuse tenderness with no guarding or rebound. The remainder of the physical examination shows no abnormalities. Which of the following is the most likely diagnosis?\\nA: Acute intermittent porphyria']"
      ]
     },
     "execution_count": 46,
     "metadata": {},
     "output_type": "execute_result"
    }
   ],
   "source": [
    "lm._get_input_texts(updated_dataset[0:2])"
   ]
  },
  {
   "cell_type": "code",
   "execution_count": 47,
   "metadata": {},
   "outputs": [
    {
     "data": {
      "text/plain": [
       "['Q: A 21-year-old sexually active male complains of fever, pain during urination, and inflammation and pain in the right knee. A culture of the joint fluid shows a bacteria that does not ferment maltose and has no polysaccharide capsule. The physician orders antibiotic therapy for the patient. The mechanism of action of action of the medication given blocks cell wall synthesis, which of the following was given?\\nA: In fact, Chloramphenicol',\n",
       " 'Q: A 21-year-old sexually active male complains of fever, pain during urination, and inflammation and pain in the right knee. A culture of the joint fluid shows a bacteria that does not ferment maltose and has no polysaccharide capsule. The physician orders antibiotic therapy for the patient. The mechanism of action of action of the medication given blocks cell wall synthesis, which of the following was given?\\nA: In fact, Gentamicin',\n",
       " 'Q: A 21-year-old sexually active male complains of fever, pain during urination, and inflammation and pain in the right knee. A culture of the joint fluid shows a bacteria that does not ferment maltose and has no polysaccharide capsule. The physician orders antibiotic therapy for the patient. The mechanism of action of action of the medication given blocks cell wall synthesis, which of the following was given?\\nA: In fact, Ciprofloxacin',\n",
       " 'Q: A 21-year-old sexually active male complains of fever, pain during urination, and inflammation and pain in the right knee. A culture of the joint fluid shows a bacteria that does not ferment maltose and has no polysaccharide capsule. The physician orders antibiotic therapy for the patient. The mechanism of action of action of the medication given blocks cell wall synthesis, which of the following was given?\\nA: In fact, Ceftriaxone',\n",
       " 'Q: A 21-year-old sexually active male complains of fever, pain during urination, and inflammation and pain in the right knee. A culture of the joint fluid shows a bacteria that does not ferment maltose and has no polysaccharide capsule. The physician orders antibiotic therapy for the patient. The mechanism of action of action of the medication given blocks cell wall synthesis, which of the following was given?\\nA: In fact, Trimethoprim']"
      ]
     },
     "execution_count": 47,
     "metadata": {},
     "output_type": "execute_result"
    }
   ],
   "source": [
    "lm.set_system_prompt(\"In fact,\")\n",
    "lm._get_input_texts(updated_dataset[0:1])"
   ]
  },
  {
   "cell_type": "code",
   "execution_count": 48,
   "metadata": {},
   "outputs": [
    {
     "name": "stderr",
     "output_type": "stream",
     "text": [
      "Asking to truncate to max_length but no maximum length is provided and the model has no predefined maximum length. Default to no truncation.\n"
     ]
    },
    {
     "data": {
      "text/plain": [
       "{'input_ids': tensor([[  101,   186,   131,   170,  1626,   118,  1214,   118,  1385, 13014,\n",
       "           2327,  2581, 19073,  1116,  1104, 10880,   117,  2489,  1219,   190,\n",
       "           9324,  2116,   117,  1105, 24970,  1105,  2489,  1107,  1103,  1268,\n",
       "           5656,   119,   170,  2754,  1104,  1103,  4091,  8240,  2196,   170,\n",
       "          10548,  1115,  1674,  1136,   175,  1200,  1880, 12477,  6066,  6787,\n",
       "           1105,  1144,  1185,   185, 23415,  3202, 19515, 16234,  2007, 21749,\n",
       "            119,  1103,  7454,  3791,  2848, 22400,  7606,  1111,  1103,  5351,\n",
       "            119,  1103,  6978,  1104,  2168,  1104,  2168,  1104,  1103, 15683,\n",
       "           1549,  5511,  2765,  2095, 11362,   117,  1134,  1104,  1103,  1378,\n",
       "           1108,  1549,   136,   170,   131,  1107,  1864,   117, 22572, 24171,\n",
       "           8223, 10436, 10658,  1233,   102,     0],\n",
       "         [  101,   186,   131,   170,  1626,   118,  1214,   118,  1385, 13014,\n",
       "           2327,  2581, 19073,  1116,  1104, 10880,   117,  2489,  1219,   190,\n",
       "           9324,  2116,   117,  1105, 24970,  1105,  2489,  1107,  1103,  1268,\n",
       "           5656,   119,   170,  2754,  1104,  1103,  4091,  8240,  2196,   170,\n",
       "          10548,  1115,  1674,  1136,   175,  1200,  1880, 12477,  6066,  6787,\n",
       "           1105,  1144,  1185,   185, 23415,  3202, 19515, 16234,  2007, 21749,\n",
       "            119,  1103,  7454,  3791,  2848, 22400,  7606,  1111,  1103,  5351,\n",
       "            119,  1103,  6978,  1104,  2168,  1104,  2168,  1104,  1103, 15683,\n",
       "           1549,  5511,  2765,  2095, 11362,   117,  1134,  1104,  1103,  1378,\n",
       "           1108,  1549,   136,   170,   131,  1107,  1864,   117,   176,  3452,\n",
       "          11787, 16430,   102,     0,     0,     0],\n",
       "         [  101,   186,   131,   170,  1626,   118,  1214,   118,  1385, 13014,\n",
       "           2327,  2581, 19073,  1116,  1104, 10880,   117,  2489,  1219,   190,\n",
       "           9324,  2116,   117,  1105, 24970,  1105,  2489,  1107,  1103,  1268,\n",
       "           5656,   119,   170,  2754,  1104,  1103,  4091,  8240,  2196,   170,\n",
       "          10548,  1115,  1674,  1136,   175,  1200,  1880, 12477,  6066,  6787,\n",
       "           1105,  1144,  1185,   185, 23415,  3202, 19515, 16234,  2007, 21749,\n",
       "            119,  1103,  7454,  3791,  2848, 22400,  7606,  1111,  1103,  5351,\n",
       "            119,  1103,  6978,  1104,  2168,  1104,  2168,  1104,  1103, 15683,\n",
       "           1549,  5511,  2765,  2095, 11362,   117,  1134,  1104,  1103,  1378,\n",
       "           1108,  1549,   136,   170,   131,  1107,  1864,   117,   172,  9717,\n",
       "           2180,  2087,  2858, 20192, 16430,   102],\n",
       "         [  101,   186,   131,   170,  1626,   118,  1214,   118,  1385, 13014,\n",
       "           2327,  2581, 19073,  1116,  1104, 10880,   117,  2489,  1219,   190,\n",
       "           9324,  2116,   117,  1105, 24970,  1105,  2489,  1107,  1103,  1268,\n",
       "           5656,   119,   170,  2754,  1104,  1103,  4091,  8240,  2196,   170,\n",
       "          10548,  1115,  1674,  1136,   175,  1200,  1880, 12477,  6066,  6787,\n",
       "           1105,  1144,  1185,   185, 23415,  3202, 19515, 16234,  2007, 21749,\n",
       "            119,  1103,  7454,  3791,  2848, 22400,  7606,  1111,  1103,  5351,\n",
       "            119,  1103,  6978,  1104,  2168,  1104,  2168,  1104,  1103, 15683,\n",
       "           1549,  5511,  2765,  2095, 11362,   117,  1134,  1104,  1103,  1378,\n",
       "           1108,  1549,   136,   170,   131,  1107,  1864,   117,   172, 11470,\n",
       "          19091,  7897,  4798,   102,     0,     0],\n",
       "         [  101,   186,   131,   170,  1626,   118,  1214,   118,  1385, 13014,\n",
       "           2327,  2581, 19073,  1116,  1104, 10880,   117,  2489,  1219,   190,\n",
       "           9324,  2116,   117,  1105, 24970,  1105,  2489,  1107,  1103,  1268,\n",
       "           5656,   119,   170,  2754,  1104,  1103,  4091,  8240,  2196,   170,\n",
       "          10548,  1115,  1674,  1136,   175,  1200,  1880, 12477,  6066,  6787,\n",
       "           1105,  1144,  1185,   185, 23415,  3202, 19515, 16234,  2007, 21749,\n",
       "            119,  1103,  7454,  3791,  2848, 22400,  7606,  1111,  1103,  5351,\n",
       "            119,  1103,  6978,  1104,  2168,  1104,  2168,  1104,  1103, 15683,\n",
       "           1549,  5511,  2765,  2095, 11362,   117,  1134,  1104,  1103,  1378,\n",
       "           1108,  1549,   136,   170,   131,  1107,  1864,   117, 13373,  8767,\n",
       "           4184, 10205,   102,     0,     0,     0]]),\n",
       " 'token_type_ids': tensor([[0, 0, 0, 0, 0, 0, 0, 0, 0, 0, 0, 0, 0, 0, 0, 0, 0, 0, 0, 0, 0, 0, 0, 0,\n",
       "          0, 0, 0, 0, 0, 0, 0, 0, 0, 0, 0, 0, 0, 0, 0, 0, 0, 0, 0, 0, 0, 0, 0, 0,\n",
       "          0, 0, 0, 0, 0, 0, 0, 0, 0, 0, 0, 0, 0, 0, 0, 0, 0, 0, 0, 0, 0, 0, 0, 0,\n",
       "          0, 0, 0, 0, 0, 0, 0, 0, 0, 0, 0, 0, 0, 0, 0, 0, 0, 0, 0, 0, 0, 0, 0, 0,\n",
       "          0, 0, 0, 0, 0, 0, 0, 0, 0, 0],\n",
       "         [0, 0, 0, 0, 0, 0, 0, 0, 0, 0, 0, 0, 0, 0, 0, 0, 0, 0, 0, 0, 0, 0, 0, 0,\n",
       "          0, 0, 0, 0, 0, 0, 0, 0, 0, 0, 0, 0, 0, 0, 0, 0, 0, 0, 0, 0, 0, 0, 0, 0,\n",
       "          0, 0, 0, 0, 0, 0, 0, 0, 0, 0, 0, 0, 0, 0, 0, 0, 0, 0, 0, 0, 0, 0, 0, 0,\n",
       "          0, 0, 0, 0, 0, 0, 0, 0, 0, 0, 0, 0, 0, 0, 0, 0, 0, 0, 0, 0, 0, 0, 0, 0,\n",
       "          0, 0, 0, 0, 0, 0, 0, 0, 0, 0],\n",
       "         [0, 0, 0, 0, 0, 0, 0, 0, 0, 0, 0, 0, 0, 0, 0, 0, 0, 0, 0, 0, 0, 0, 0, 0,\n",
       "          0, 0, 0, 0, 0, 0, 0, 0, 0, 0, 0, 0, 0, 0, 0, 0, 0, 0, 0, 0, 0, 0, 0, 0,\n",
       "          0, 0, 0, 0, 0, 0, 0, 0, 0, 0, 0, 0, 0, 0, 0, 0, 0, 0, 0, 0, 0, 0, 0, 0,\n",
       "          0, 0, 0, 0, 0, 0, 0, 0, 0, 0, 0, 0, 0, 0, 0, 0, 0, 0, 0, 0, 0, 0, 0, 0,\n",
       "          0, 0, 0, 0, 0, 0, 0, 0, 0, 0],\n",
       "         [0, 0, 0, 0, 0, 0, 0, 0, 0, 0, 0, 0, 0, 0, 0, 0, 0, 0, 0, 0, 0, 0, 0, 0,\n",
       "          0, 0, 0, 0, 0, 0, 0, 0, 0, 0, 0, 0, 0, 0, 0, 0, 0, 0, 0, 0, 0, 0, 0, 0,\n",
       "          0, 0, 0, 0, 0, 0, 0, 0, 0, 0, 0, 0, 0, 0, 0, 0, 0, 0, 0, 0, 0, 0, 0, 0,\n",
       "          0, 0, 0, 0, 0, 0, 0, 0, 0, 0, 0, 0, 0, 0, 0, 0, 0, 0, 0, 0, 0, 0, 0, 0,\n",
       "          0, 0, 0, 0, 0, 0, 0, 0, 0, 0],\n",
       "         [0, 0, 0, 0, 0, 0, 0, 0, 0, 0, 0, 0, 0, 0, 0, 0, 0, 0, 0, 0, 0, 0, 0, 0,\n",
       "          0, 0, 0, 0, 0, 0, 0, 0, 0, 0, 0, 0, 0, 0, 0, 0, 0, 0, 0, 0, 0, 0, 0, 0,\n",
       "          0, 0, 0, 0, 0, 0, 0, 0, 0, 0, 0, 0, 0, 0, 0, 0, 0, 0, 0, 0, 0, 0, 0, 0,\n",
       "          0, 0, 0, 0, 0, 0, 0, 0, 0, 0, 0, 0, 0, 0, 0, 0, 0, 0, 0, 0, 0, 0, 0, 0,\n",
       "          0, 0, 0, 0, 0, 0, 0, 0, 0, 0]]),\n",
       " 'attention_mask': tensor([[1, 1, 1, 1, 1, 1, 1, 1, 1, 1, 1, 1, 1, 1, 1, 1, 1, 1, 1, 1, 1, 1, 1, 1,\n",
       "          1, 1, 1, 1, 1, 1, 1, 1, 1, 1, 1, 1, 1, 1, 1, 1, 1, 1, 1, 1, 1, 1, 1, 1,\n",
       "          1, 1, 1, 1, 1, 1, 1, 1, 1, 1, 1, 1, 1, 1, 1, 1, 1, 1, 1, 1, 1, 1, 1, 1,\n",
       "          1, 1, 1, 1, 1, 1, 1, 1, 1, 1, 1, 1, 1, 1, 1, 1, 1, 1, 1, 1, 1, 1, 1, 1,\n",
       "          1, 1, 1, 1, 1, 1, 1, 1, 1, 0],\n",
       "         [1, 1, 1, 1, 1, 1, 1, 1, 1, 1, 1, 1, 1, 1, 1, 1, 1, 1, 1, 1, 1, 1, 1, 1,\n",
       "          1, 1, 1, 1, 1, 1, 1, 1, 1, 1, 1, 1, 1, 1, 1, 1, 1, 1, 1, 1, 1, 1, 1, 1,\n",
       "          1, 1, 1, 1, 1, 1, 1, 1, 1, 1, 1, 1, 1, 1, 1, 1, 1, 1, 1, 1, 1, 1, 1, 1,\n",
       "          1, 1, 1, 1, 1, 1, 1, 1, 1, 1, 1, 1, 1, 1, 1, 1, 1, 1, 1, 1, 1, 1, 1, 1,\n",
       "          1, 1, 1, 1, 1, 1, 1, 0, 0, 0],\n",
       "         [1, 1, 1, 1, 1, 1, 1, 1, 1, 1, 1, 1, 1, 1, 1, 1, 1, 1, 1, 1, 1, 1, 1, 1,\n",
       "          1, 1, 1, 1, 1, 1, 1, 1, 1, 1, 1, 1, 1, 1, 1, 1, 1, 1, 1, 1, 1, 1, 1, 1,\n",
       "          1, 1, 1, 1, 1, 1, 1, 1, 1, 1, 1, 1, 1, 1, 1, 1, 1, 1, 1, 1, 1, 1, 1, 1,\n",
       "          1, 1, 1, 1, 1, 1, 1, 1, 1, 1, 1, 1, 1, 1, 1, 1, 1, 1, 1, 1, 1, 1, 1, 1,\n",
       "          1, 1, 1, 1, 1, 1, 1, 1, 1, 1],\n",
       "         [1, 1, 1, 1, 1, 1, 1, 1, 1, 1, 1, 1, 1, 1, 1, 1, 1, 1, 1, 1, 1, 1, 1, 1,\n",
       "          1, 1, 1, 1, 1, 1, 1, 1, 1, 1, 1, 1, 1, 1, 1, 1, 1, 1, 1, 1, 1, 1, 1, 1,\n",
       "          1, 1, 1, 1, 1, 1, 1, 1, 1, 1, 1, 1, 1, 1, 1, 1, 1, 1, 1, 1, 1, 1, 1, 1,\n",
       "          1, 1, 1, 1, 1, 1, 1, 1, 1, 1, 1, 1, 1, 1, 1, 1, 1, 1, 1, 1, 1, 1, 1, 1,\n",
       "          1, 1, 1, 1, 1, 1, 1, 1, 0, 0],\n",
       "         [1, 1, 1, 1, 1, 1, 1, 1, 1, 1, 1, 1, 1, 1, 1, 1, 1, 1, 1, 1, 1, 1, 1, 1,\n",
       "          1, 1, 1, 1, 1, 1, 1, 1, 1, 1, 1, 1, 1, 1, 1, 1, 1, 1, 1, 1, 1, 1, 1, 1,\n",
       "          1, 1, 1, 1, 1, 1, 1, 1, 1, 1, 1, 1, 1, 1, 1, 1, 1, 1, 1, 1, 1, 1, 1, 1,\n",
       "          1, 1, 1, 1, 1, 1, 1, 1, 1, 1, 1, 1, 1, 1, 1, 1, 1, 1, 1, 1, 1, 1, 1, 1,\n",
       "          1, 1, 1, 1, 1, 1, 1, 0, 0, 0]])}"
      ]
     },
     "execution_count": 48,
     "metadata": {},
     "output_type": "execute_result"
    }
   ],
   "source": [
    "lm.preprocess(updated_dataset[0:1])"
   ]
  },
  {
   "cell_type": "code",
   "execution_count": 49,
   "metadata": {},
   "outputs": [
    {
     "name": "stdout",
     "output_type": "stream",
     "text": [
      "Shape of input_ids:\ttorch.Size([50, 499])\n",
      "Shape of logits:\ttorch.Size([50, 499, 28996])\n"
     ]
    }
   ],
   "source": [
    "input_ = lm.preprocess(updated_dataset)\n",
    "outputs = lm._forward(input_)\n",
    "\n",
    "for k, v in outputs.items():\n",
    "    print(f\"Shape of {k}:\\t{v.shape}\")"
   ]
  },
  {
   "cell_type": "code",
   "execution_count": 26,
   "metadata": {},
   "outputs": [
    {
     "data": {
      "text/plain": [
       "Output(loss=array([[1214.4108, 1196.6061, 1232.9644, 1201.0562, 1192.1794],\n",
       "       [3028.9084, 3015.8738, 3101.7854, 3097.1274, 3036.8232],\n",
       "       [2152.7812, 2229.096 , 2155.9805, 2143.7722, 2147.6968],\n",
       "       [1798.1527, 1769.2864, 1823.5278, 1877.3756, 1777.6583],\n",
       "       [2907.4917, 2912.1863, 2890.602 , 2912.61  , 2921.9517],\n",
       "       [3289.5093, 3277.1824, 3264.971 , 3317.948 , 3317.6692],\n",
       "       [1286.4143, 1292.952 , 1278.8005, 1297.5917, 1308.127 ],\n",
       "       [5588.8374, 5621.1724, 5607.1807, 5558.1553, 5570.4688],\n",
       "       [1957.8182, 1873.3116, 1910.833 , 1947.9403, 1907.3387],\n",
       "       [1653.0619, 1659.1809, 1694.7096, 1650.039 , 1657.2186]],\n",
       "      dtype=float32), prediction=array([4, 1, 3, 1, 2, 2, 2, 3, 1, 3], dtype=int64))"
      ]
     },
     "execution_count": 26,
     "metadata": {},
     "output_type": "execute_result"
    }
   ],
   "source": [
    "prediction = lm.postprocess(outputs)\n",
    "prediction"
   ]
  }
 ],
 "metadata": {
  "kernelspec": {
   "display_name": "Python 3",
   "language": "python",
   "name": "python3"
  },
  "language_info": {
   "codemirror_mode": {
    "name": "ipython",
    "version": 3
   },
   "file_extension": ".py",
   "mimetype": "text/x-python",
   "name": "python",
   "nbconvert_exporter": "python",
   "pygments_lexer": "ipython3",
   "version": "3.11.8"
  }
 },
 "nbformat": 4,
 "nbformat_minor": 2
}
