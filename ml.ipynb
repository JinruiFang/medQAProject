{
 "cells": [
  {
   "cell_type": "code",
   "execution_count": 1,
   "metadata": {},
   "outputs": [],
   "source": [
    "import textwrap\n",
    "from datasets import load_dataset\n",
    "from transformers import pipeline\n",
    "from truthfulqa import MultipleChoicePipeline"
   ]
  },
  {
   "cell_type": "code",
   "execution_count": 52,
   "metadata": {},
   "outputs": [],
   "source": [
    "medqa = load_dataset(\"bigbio/med_qa\", split=\"validation[:10]\")"
   ]
  },
  {
   "cell_type": "code",
   "execution_count": 53,
   "metadata": {},
   "outputs": [
    {
     "data": {
      "text/plain": [
       "Dataset({\n",
       "    features: ['meta_info', 'question', 'answer_idx', 'answer', 'options'],\n",
       "    num_rows: 10\n",
       "})"
      ]
     },
     "execution_count": 53,
     "metadata": {},
     "output_type": "execute_result"
    }
   ],
   "source": [
    "medqa"
   ]
  },
  {
   "cell_type": "code",
   "execution_count": 54,
   "metadata": {},
   "outputs": [],
   "source": [
    "def update_dataset(example):\n",
    "    # Numeric conversion for answer indices\n",
    "    choice_to_numeric = {'A': 0, 'B': 1, 'C': 2, 'D': 3, 'E': 4}\n",
    "    if example['answer_idx'] in choice_to_numeric:\n",
    "        example['label'] = choice_to_numeric[example['answer_idx']]\n",
    "    else:\n",
    "        example['label'] = None  # Or some default value\n",
    "    \n",
    "    # Extracting choice values\n",
    "    example['choices'] = [item['value'] for item in example['options']]\n",
    "    return example\n",
    "\n",
    "updated_dataset = medqa.map(update_dataset)"
   ]
  },
  {
   "cell_type": "code",
   "execution_count": 4,
   "metadata": {},
   "outputs": [
    {
     "name": "stdout",
     "output_type": "stream",
     "text": [
      "Question: A 21-year-old sexually active male complains of fever, pain during urination, and inflammation and pain in the right knee. A culture of the joint fluid shows a bacteria that does not ferment maltose and has no polysaccharide capsule. The physician orders antibiotic therapy for the patient. The mechanism of action of action of the medication given blocks cell wall synthesis, which of the following was given?\n",
      "\n",
      "Answer Choices:\n",
      " 0. Chloramphenicol\n",
      " 1. Gentamicin\n",
      " 2. Ciprofloxacin\n",
      " 3. Ceftriaxone\n",
      " 4. Trimethoprim\n",
      "\n",
      "Correct Answer: D\n"
     ]
    }
   ],
   "source": [
    "q1 = medqa[0]\n",
    "print(f\"Question: {q1['question']}\\n\\nAnswer Choices:\")\n",
    "for i, c in enumerate(q1[\"options\"]):\n",
    "    print(f\" {i}. {textwrap.fill(c['value'], subsequent_indent=' ' * 4)}\")\n",
    "print(f\"\\nCorrect Answer: {q1['answer_idx']}\")"
   ]
  },
  {
   "cell_type": "code",
   "execution_count": 5,
   "metadata": {},
   "outputs": [
    {
     "name": "stderr",
     "output_type": "stream",
     "text": [
      "If you want to use `BertLMHeadModel` as a standalone, add `is_decoder=True.`\n"
     ]
    }
   ],
   "source": [
    "# Use \n",
    "generator = pipeline(\"text-generation\", model=\"dmis-lab/biobert-base-cased-v1.1\")"
   ]
  },
  {
   "cell_type": "code",
   "execution_count": 6,
   "metadata": {},
   "outputs": [
    {
     "name": "stderr",
     "output_type": "stream",
     "text": [
      "If you want to use `BertLMHeadModel` as a standalone, add `is_decoder=True.`\n"
     ]
    }
   ],
   "source": [
    "lm = MultipleChoicePipeline(model=\"dmis-lab/biobert-base-cased-v1.1\")"
   ]
  },
  {
   "cell_type": "code",
   "execution_count": 23,
   "metadata": {},
   "outputs": [
    {
     "data": {
      "text/html": [
       "<div>\n",
       "<style scoped>\n",
       "    .dataframe tbody tr th:only-of-type {\n",
       "        vertical-align: middle;\n",
       "    }\n",
       "\n",
       "    .dataframe tbody tr th {\n",
       "        vertical-align: top;\n",
       "    }\n",
       "\n",
       "    .dataframe thead th {\n",
       "        text-align: right;\n",
       "    }\n",
       "</style>\n",
       "<table border=\"1\" class=\"dataframe\">\n",
       "  <thead>\n",
       "    <tr style=\"text-align: right;\">\n",
       "      <th></th>\n",
       "      <th>question</th>\n",
       "      <th>options</th>\n",
       "      <th>answer</th>\n",
       "      <th>choices</th>\n",
       "      <th>label</th>\n",
       "    </tr>\n",
       "  </thead>\n",
       "  <tbody>\n",
       "    <tr>\n",
       "      <th>0</th>\n",
       "      <td>A 21-year-old sexually active male complains o...</td>\n",
       "      <td>[{'key': 'A', 'value': 'Chloramphenicol'}, {'k...</td>\n",
       "      <td>D</td>\n",
       "      <td>[Chloramphenicol, Gentamicin, Ciprofloxacin, C...</td>\n",
       "      <td>3</td>\n",
       "    </tr>\n",
       "    <tr>\n",
       "      <th>1</th>\n",
       "      <td>A 5-year-old girl is brought to the emergency ...</td>\n",
       "      <td>[{'key': 'A', 'value': 'Cyclic vomiting syndro...</td>\n",
       "      <td>A</td>\n",
       "      <td>[Cyclic vomiting syndrome, Gastroenteritis, Hy...</td>\n",
       "      <td>0</td>\n",
       "    </tr>\n",
       "    <tr>\n",
       "      <th>2</th>\n",
       "      <td>A 40-year-old woman presents with difficulty f...</td>\n",
       "      <td>[{'key': 'A', 'value': 'Diazepam'}, {'key': 'B...</td>\n",
       "      <td>E</td>\n",
       "      <td>[Diazepam, St. John’s Wort, Paroxetine, Zolpid...</td>\n",
       "      <td>4</td>\n",
       "    </tr>\n",
       "    <tr>\n",
       "      <th>3</th>\n",
       "      <td>A 37-year-old female with a history of type II...</td>\n",
       "      <td>[{'key': 'A', 'value': 'Obtain an abdominal CT...</td>\n",
       "      <td>C</td>\n",
       "      <td>[Obtain an abdominal CT scan, Obtain blood cul...</td>\n",
       "      <td>2</td>\n",
       "    </tr>\n",
       "    <tr>\n",
       "      <th>4</th>\n",
       "      <td>A 19-year-old boy presents with confusion and ...</td>\n",
       "      <td>[{'key': 'A', 'value': 'Hypoperfusion'}, {'key...</td>\n",
       "      <td>A</td>\n",
       "      <td>[Hypoperfusion, Hyperglycemia, Metabolic acido...</td>\n",
       "      <td>0</td>\n",
       "    </tr>\n",
       "    <tr>\n",
       "      <th>5</th>\n",
       "      <td>A 41-year-old woman presents to her primary ca...</td>\n",
       "      <td>[{'key': 'A', 'value': 'Vitamin B12 deficiency...</td>\n",
       "      <td>C</td>\n",
       "      <td>[Vitamin B12 deficiency, Folate deficiency, Ir...</td>\n",
       "      <td>2</td>\n",
       "    </tr>\n",
       "    <tr>\n",
       "      <th>6</th>\n",
       "      <td>A 59-year-old woman with stage IV lung cancer ...</td>\n",
       "      <td>[{'key': 'A', 'value': 'Lysosomal degradation ...</td>\n",
       "      <td>E</td>\n",
       "      <td>[Lysosomal degradation of endocytosed proteins...</td>\n",
       "      <td>4</td>\n",
       "    </tr>\n",
       "    <tr>\n",
       "      <th>7</th>\n",
       "      <td>A 67-year-old man presents to the emergency de...</td>\n",
       "      <td>[{'key': 'A', 'value': 'Exertional heat stroke...</td>\n",
       "      <td>C</td>\n",
       "      <td>[Exertional heat stroke, Neuroleptic malignant...</td>\n",
       "      <td>2</td>\n",
       "    </tr>\n",
       "    <tr>\n",
       "      <th>8</th>\n",
       "      <td>A 32-year-old man presents to a mission hospit...</td>\n",
       "      <td>[{'key': 'A', 'value': 'Alpha-ketoglutarate de...</td>\n",
       "      <td>A</td>\n",
       "      <td>[Alpha-ketoglutarate dehydrogenase, Acyl trans...</td>\n",
       "      <td>0</td>\n",
       "    </tr>\n",
       "    <tr>\n",
       "      <th>9</th>\n",
       "      <td>A 60-year-old woman presents to her primary ca...</td>\n",
       "      <td>[{'key': 'A', 'value': 'Atenolol'}, {'key': 'B...</td>\n",
       "      <td>A</td>\n",
       "      <td>[Atenolol, Furosemide, Hydrochlorothiazide, Ni...</td>\n",
       "      <td>0</td>\n",
       "    </tr>\n",
       "  </tbody>\n",
       "</table>\n",
       "</div>"
      ],
      "text/plain": [
       "                                            question  \\\n",
       "0  A 21-year-old sexually active male complains o...   \n",
       "1  A 5-year-old girl is brought to the emergency ...   \n",
       "2  A 40-year-old woman presents with difficulty f...   \n",
       "3  A 37-year-old female with a history of type II...   \n",
       "4  A 19-year-old boy presents with confusion and ...   \n",
       "5  A 41-year-old woman presents to her primary ca...   \n",
       "6  A 59-year-old woman with stage IV lung cancer ...   \n",
       "7  A 67-year-old man presents to the emergency de...   \n",
       "8  A 32-year-old man presents to a mission hospit...   \n",
       "9  A 60-year-old woman presents to her primary ca...   \n",
       "\n",
       "                                             options answer  \\\n",
       "0  [{'key': 'A', 'value': 'Chloramphenicol'}, {'k...      D   \n",
       "1  [{'key': 'A', 'value': 'Cyclic vomiting syndro...      A   \n",
       "2  [{'key': 'A', 'value': 'Diazepam'}, {'key': 'B...      E   \n",
       "3  [{'key': 'A', 'value': 'Obtain an abdominal CT...      C   \n",
       "4  [{'key': 'A', 'value': 'Hypoperfusion'}, {'key...      A   \n",
       "5  [{'key': 'A', 'value': 'Vitamin B12 deficiency...      C   \n",
       "6  [{'key': 'A', 'value': 'Lysosomal degradation ...      E   \n",
       "7  [{'key': 'A', 'value': 'Exertional heat stroke...      C   \n",
       "8  [{'key': 'A', 'value': 'Alpha-ketoglutarate de...      A   \n",
       "9  [{'key': 'A', 'value': 'Atenolol'}, {'key': 'B...      A   \n",
       "\n",
       "                                             choices  label  \n",
       "0  [Chloramphenicol, Gentamicin, Ciprofloxacin, C...      3  \n",
       "1  [Cyclic vomiting syndrome, Gastroenteritis, Hy...      0  \n",
       "2  [Diazepam, St. John’s Wort, Paroxetine, Zolpid...      4  \n",
       "3  [Obtain an abdominal CT scan, Obtain blood cul...      2  \n",
       "4  [Hypoperfusion, Hyperglycemia, Metabolic acido...      0  \n",
       "5  [Vitamin B12 deficiency, Folate deficiency, Ir...      2  \n",
       "6  [Lysosomal degradation of endocytosed proteins...      4  \n",
       "7  [Exertional heat stroke, Neuroleptic malignant...      2  \n",
       "8  [Alpha-ketoglutarate dehydrogenase, Acyl trans...      0  \n",
       "9  [Atenolol, Furosemide, Hydrochlorothiazide, Ni...      0  "
      ]
     },
     "execution_count": 23,
     "metadata": {},
     "output_type": "execute_result"
    }
   ],
   "source": [
    "def extract_values(row):\n",
    "    return [item['value'] for item in row]\n",
    "\n",
    "choice_to_numeric = {'A': 0, 'B': 1, 'C': 2, 'D': 3, 'E': 4}\n",
    "\n",
    "import pandas as pd\n",
    "df = pd.DataFrame({'question' : medqa['question'], 'options' : medqa['options'], 'answer': medqa['answer_idx']})\n",
    "df['choices'] = df['options'].apply(extract_values)\n",
    "df['label'] = df['answer'].map(choice_to_numeric)\n",
    "df"
   ]
  },
  {
   "cell_type": "code",
   "execution_count": 9,
   "metadata": {},
   "outputs": [
    {
     "data": {
      "text/plain": [
       "['Q: A 21-year-old sexually active male complains of fever, pain during urination, and inflammation and pain in the right knee. A culture of the joint fluid shows a bacteria that does not ferment maltose and has no polysaccharide capsule. The physician orders antibiotic therapy for the patient. The mechanism of action of action of the medication given blocks cell wall synthesis, which of the following was given?\\nA: Chloramphenicol',\n",
       " 'Q: A 21-year-old sexually active male complains of fever, pain during urination, and inflammation and pain in the right knee. A culture of the joint fluid shows a bacteria that does not ferment maltose and has no polysaccharide capsule. The physician orders antibiotic therapy for the patient. The mechanism of action of action of the medication given blocks cell wall synthesis, which of the following was given?\\nA: Gentamicin',\n",
       " 'Q: A 21-year-old sexually active male complains of fever, pain during urination, and inflammation and pain in the right knee. A culture of the joint fluid shows a bacteria that does not ferment maltose and has no polysaccharide capsule. The physician orders antibiotic therapy for the patient. The mechanism of action of action of the medication given blocks cell wall synthesis, which of the following was given?\\nA: Ciprofloxacin',\n",
       " 'Q: A 21-year-old sexually active male complains of fever, pain during urination, and inflammation and pain in the right knee. A culture of the joint fluid shows a bacteria that does not ferment maltose and has no polysaccharide capsule. The physician orders antibiotic therapy for the patient. The mechanism of action of action of the medication given blocks cell wall synthesis, which of the following was given?\\nA: Ceftriaxone',\n",
       " 'Q: A 21-year-old sexually active male complains of fever, pain during urination, and inflammation and pain in the right knee. A culture of the joint fluid shows a bacteria that does not ferment maltose and has no polysaccharide capsule. The physician orders antibiotic therapy for the patient. The mechanism of action of action of the medication given blocks cell wall synthesis, which of the following was given?\\nA: Trimethoprim',\n",
       " 'Q: A 5-year-old girl is brought to the emergency department by her mother because of multiple episodes of nausea and vomiting that last about 2 hours. During this period, she has had 6–8 episodes of bilious vomiting and abdominal pain. The vomiting was preceded by fatigue. The girl feels well between these episodes. She has missed several days of school and has been hospitalized 2 times during the past 6 months for dehydration due to similar episodes of vomiting and nausea. The patient has lived with her mother since her parents divorced 8 months ago. Her immunizations are up-to-date. She is at the 60th percentile for height and 30th percentile for weight. She appears emaciated. Her temperature is 36.8°C (98.8°F), pulse is 99/min, and blood pressure is 82/52 mm Hg. Examination shows dry mucous membranes. The lungs are clear to auscultation. Abdominal examination shows a soft abdomen with mild diffuse tenderness with no guarding or rebound. The remainder of the physical examination shows no abnormalities. Which of the following is the most likely diagnosis?\\nA: Cyclic vomiting syndrome',\n",
       " 'Q: A 5-year-old girl is brought to the emergency department by her mother because of multiple episodes of nausea and vomiting that last about 2 hours. During this period, she has had 6–8 episodes of bilious vomiting and abdominal pain. The vomiting was preceded by fatigue. The girl feels well between these episodes. She has missed several days of school and has been hospitalized 2 times during the past 6 months for dehydration due to similar episodes of vomiting and nausea. The patient has lived with her mother since her parents divorced 8 months ago. Her immunizations are up-to-date. She is at the 60th percentile for height and 30th percentile for weight. She appears emaciated. Her temperature is 36.8°C (98.8°F), pulse is 99/min, and blood pressure is 82/52 mm Hg. Examination shows dry mucous membranes. The lungs are clear to auscultation. Abdominal examination shows a soft abdomen with mild diffuse tenderness with no guarding or rebound. The remainder of the physical examination shows no abnormalities. Which of the following is the most likely diagnosis?\\nA: Gastroenteritis',\n",
       " 'Q: A 5-year-old girl is brought to the emergency department by her mother because of multiple episodes of nausea and vomiting that last about 2 hours. During this period, she has had 6–8 episodes of bilious vomiting and abdominal pain. The vomiting was preceded by fatigue. The girl feels well between these episodes. She has missed several days of school and has been hospitalized 2 times during the past 6 months for dehydration due to similar episodes of vomiting and nausea. The patient has lived with her mother since her parents divorced 8 months ago. Her immunizations are up-to-date. She is at the 60th percentile for height and 30th percentile for weight. She appears emaciated. Her temperature is 36.8°C (98.8°F), pulse is 99/min, and blood pressure is 82/52 mm Hg. Examination shows dry mucous membranes. The lungs are clear to auscultation. Abdominal examination shows a soft abdomen with mild diffuse tenderness with no guarding or rebound. The remainder of the physical examination shows no abnormalities. Which of the following is the most likely diagnosis?\\nA: Hypertrophic pyloric stenosis',\n",
       " 'Q: A 5-year-old girl is brought to the emergency department by her mother because of multiple episodes of nausea and vomiting that last about 2 hours. During this period, she has had 6–8 episodes of bilious vomiting and abdominal pain. The vomiting was preceded by fatigue. The girl feels well between these episodes. She has missed several days of school and has been hospitalized 2 times during the past 6 months for dehydration due to similar episodes of vomiting and nausea. The patient has lived with her mother since her parents divorced 8 months ago. Her immunizations are up-to-date. She is at the 60th percentile for height and 30th percentile for weight. She appears emaciated. Her temperature is 36.8°C (98.8°F), pulse is 99/min, and blood pressure is 82/52 mm Hg. Examination shows dry mucous membranes. The lungs are clear to auscultation. Abdominal examination shows a soft abdomen with mild diffuse tenderness with no guarding or rebound. The remainder of the physical examination shows no abnormalities. Which of the following is the most likely diagnosis?\\nA: Gastroesophageal reflux disease',\n",
       " 'Q: A 5-year-old girl is brought to the emergency department by her mother because of multiple episodes of nausea and vomiting that last about 2 hours. During this period, she has had 6–8 episodes of bilious vomiting and abdominal pain. The vomiting was preceded by fatigue. The girl feels well between these episodes. She has missed several days of school and has been hospitalized 2 times during the past 6 months for dehydration due to similar episodes of vomiting and nausea. The patient has lived with her mother since her parents divorced 8 months ago. Her immunizations are up-to-date. She is at the 60th percentile for height and 30th percentile for weight. She appears emaciated. Her temperature is 36.8°C (98.8°F), pulse is 99/min, and blood pressure is 82/52 mm Hg. Examination shows dry mucous membranes. The lungs are clear to auscultation. Abdominal examination shows a soft abdomen with mild diffuse tenderness with no guarding or rebound. The remainder of the physical examination shows no abnormalities. Which of the following is the most likely diagnosis?\\nA: Acute intermittent porphyria']"
      ]
     },
     "execution_count": 9,
     "metadata": {},
     "output_type": "execute_result"
    }
   ],
   "source": [
    "lm._get_input_texts(df[0:2])"
   ]
  },
  {
   "cell_type": "code",
   "execution_count": 10,
   "metadata": {},
   "outputs": [
    {
     "data": {
      "text/plain": [
       "['Q: A 21-year-old sexually active male complains of fever, pain during urination, and inflammation and pain in the right knee. A culture of the joint fluid shows a bacteria that does not ferment maltose and has no polysaccharide capsule. The physician orders antibiotic therapy for the patient. The mechanism of action of action of the medication given blocks cell wall synthesis, which of the following was given?\\nA: In fact, Chloramphenicol',\n",
       " 'Q: A 21-year-old sexually active male complains of fever, pain during urination, and inflammation and pain in the right knee. A culture of the joint fluid shows a bacteria that does not ferment maltose and has no polysaccharide capsule. The physician orders antibiotic therapy for the patient. The mechanism of action of action of the medication given blocks cell wall synthesis, which of the following was given?\\nA: In fact, Gentamicin',\n",
       " 'Q: A 21-year-old sexually active male complains of fever, pain during urination, and inflammation and pain in the right knee. A culture of the joint fluid shows a bacteria that does not ferment maltose and has no polysaccharide capsule. The physician orders antibiotic therapy for the patient. The mechanism of action of action of the medication given blocks cell wall synthesis, which of the following was given?\\nA: In fact, Ciprofloxacin',\n",
       " 'Q: A 21-year-old sexually active male complains of fever, pain during urination, and inflammation and pain in the right knee. A culture of the joint fluid shows a bacteria that does not ferment maltose and has no polysaccharide capsule. The physician orders antibiotic therapy for the patient. The mechanism of action of action of the medication given blocks cell wall synthesis, which of the following was given?\\nA: In fact, Ceftriaxone',\n",
       " 'Q: A 21-year-old sexually active male complains of fever, pain during urination, and inflammation and pain in the right knee. A culture of the joint fluid shows a bacteria that does not ferment maltose and has no polysaccharide capsule. The physician orders antibiotic therapy for the patient. The mechanism of action of action of the medication given blocks cell wall synthesis, which of the following was given?\\nA: In fact, Trimethoprim']"
      ]
     },
     "execution_count": 10,
     "metadata": {},
     "output_type": "execute_result"
    }
   ],
   "source": [
    "lm.set_system_prompt(\"In fact,\")\n",
    "lm._get_input_texts(df[0:1])"
   ]
  },
  {
   "cell_type": "code",
   "execution_count": 11,
   "metadata": {},
   "outputs": [
    {
     "name": "stderr",
     "output_type": "stream",
     "text": [
      "Asking to truncate to max_length but no maximum length is provided and the model has no predefined maximum length. Default to no truncation.\n"
     ]
    },
    {
     "data": {
      "text/plain": [
       "{'input_ids': tensor([[  101,   186,   131,   170,  1626,   118,  1214,   118,  1385, 13014,\n",
       "           2327,  2581, 19073,  1116,  1104, 10880,   117,  2489,  1219,   190,\n",
       "           9324,  2116,   117,  1105, 24970,  1105,  2489,  1107,  1103,  1268,\n",
       "           5656,   119,   170,  2754,  1104,  1103,  4091,  8240,  2196,   170,\n",
       "          10548,  1115,  1674,  1136,   175,  1200,  1880, 12477,  6066,  6787,\n",
       "           1105,  1144,  1185,   185, 23415,  3202, 19515, 16234,  2007, 21749,\n",
       "            119,  1103,  7454,  3791,  2848, 22400,  7606,  1111,  1103,  5351,\n",
       "            119,  1103,  6978,  1104,  2168,  1104,  2168,  1104,  1103, 15683,\n",
       "           1549,  5511,  2765,  2095, 11362,   117,  1134,  1104,  1103,  1378,\n",
       "           1108,  1549,   136,   170,   131,  1107,  1864,   117, 22572, 24171,\n",
       "           8223, 10436, 10658,  1233,   102,     0],\n",
       "         [  101,   186,   131,   170,  1626,   118,  1214,   118,  1385, 13014,\n",
       "           2327,  2581, 19073,  1116,  1104, 10880,   117,  2489,  1219,   190,\n",
       "           9324,  2116,   117,  1105, 24970,  1105,  2489,  1107,  1103,  1268,\n",
       "           5656,   119,   170,  2754,  1104,  1103,  4091,  8240,  2196,   170,\n",
       "          10548,  1115,  1674,  1136,   175,  1200,  1880, 12477,  6066,  6787,\n",
       "           1105,  1144,  1185,   185, 23415,  3202, 19515, 16234,  2007, 21749,\n",
       "            119,  1103,  7454,  3791,  2848, 22400,  7606,  1111,  1103,  5351,\n",
       "            119,  1103,  6978,  1104,  2168,  1104,  2168,  1104,  1103, 15683,\n",
       "           1549,  5511,  2765,  2095, 11362,   117,  1134,  1104,  1103,  1378,\n",
       "           1108,  1549,   136,   170,   131,  1107,  1864,   117,   176,  3452,\n",
       "          11787, 16430,   102,     0,     0,     0],\n",
       "         [  101,   186,   131,   170,  1626,   118,  1214,   118,  1385, 13014,\n",
       "           2327,  2581, 19073,  1116,  1104, 10880,   117,  2489,  1219,   190,\n",
       "           9324,  2116,   117,  1105, 24970,  1105,  2489,  1107,  1103,  1268,\n",
       "           5656,   119,   170,  2754,  1104,  1103,  4091,  8240,  2196,   170,\n",
       "          10548,  1115,  1674,  1136,   175,  1200,  1880, 12477,  6066,  6787,\n",
       "           1105,  1144,  1185,   185, 23415,  3202, 19515, 16234,  2007, 21749,\n",
       "            119,  1103,  7454,  3791,  2848, 22400,  7606,  1111,  1103,  5351,\n",
       "            119,  1103,  6978,  1104,  2168,  1104,  2168,  1104,  1103, 15683,\n",
       "           1549,  5511,  2765,  2095, 11362,   117,  1134,  1104,  1103,  1378,\n",
       "           1108,  1549,   136,   170,   131,  1107,  1864,   117,   172,  9717,\n",
       "           2180,  2087,  2858, 20192, 16430,   102],\n",
       "         [  101,   186,   131,   170,  1626,   118,  1214,   118,  1385, 13014,\n",
       "           2327,  2581, 19073,  1116,  1104, 10880,   117,  2489,  1219,   190,\n",
       "           9324,  2116,   117,  1105, 24970,  1105,  2489,  1107,  1103,  1268,\n",
       "           5656,   119,   170,  2754,  1104,  1103,  4091,  8240,  2196,   170,\n",
       "          10548,  1115,  1674,  1136,   175,  1200,  1880, 12477,  6066,  6787,\n",
       "           1105,  1144,  1185,   185, 23415,  3202, 19515, 16234,  2007, 21749,\n",
       "            119,  1103,  7454,  3791,  2848, 22400,  7606,  1111,  1103,  5351,\n",
       "            119,  1103,  6978,  1104,  2168,  1104,  2168,  1104,  1103, 15683,\n",
       "           1549,  5511,  2765,  2095, 11362,   117,  1134,  1104,  1103,  1378,\n",
       "           1108,  1549,   136,   170,   131,  1107,  1864,   117,   172, 11470,\n",
       "          19091,  7897,  4798,   102,     0,     0],\n",
       "         [  101,   186,   131,   170,  1626,   118,  1214,   118,  1385, 13014,\n",
       "           2327,  2581, 19073,  1116,  1104, 10880,   117,  2489,  1219,   190,\n",
       "           9324,  2116,   117,  1105, 24970,  1105,  2489,  1107,  1103,  1268,\n",
       "           5656,   119,   170,  2754,  1104,  1103,  4091,  8240,  2196,   170,\n",
       "          10548,  1115,  1674,  1136,   175,  1200,  1880, 12477,  6066,  6787,\n",
       "           1105,  1144,  1185,   185, 23415,  3202, 19515, 16234,  2007, 21749,\n",
       "            119,  1103,  7454,  3791,  2848, 22400,  7606,  1111,  1103,  5351,\n",
       "            119,  1103,  6978,  1104,  2168,  1104,  2168,  1104,  1103, 15683,\n",
       "           1549,  5511,  2765,  2095, 11362,   117,  1134,  1104,  1103,  1378,\n",
       "           1108,  1549,   136,   170,   131,  1107,  1864,   117, 13373,  8767,\n",
       "           4184, 10205,   102,     0,     0,     0]]),\n",
       " 'token_type_ids': tensor([[0, 0, 0, 0, 0, 0, 0, 0, 0, 0, 0, 0, 0, 0, 0, 0, 0, 0, 0, 0, 0, 0, 0, 0,\n",
       "          0, 0, 0, 0, 0, 0, 0, 0, 0, 0, 0, 0, 0, 0, 0, 0, 0, 0, 0, 0, 0, 0, 0, 0,\n",
       "          0, 0, 0, 0, 0, 0, 0, 0, 0, 0, 0, 0, 0, 0, 0, 0, 0, 0, 0, 0, 0, 0, 0, 0,\n",
       "          0, 0, 0, 0, 0, 0, 0, 0, 0, 0, 0, 0, 0, 0, 0, 0, 0, 0, 0, 0, 0, 0, 0, 0,\n",
       "          0, 0, 0, 0, 0, 0, 0, 0, 0, 0],\n",
       "         [0, 0, 0, 0, 0, 0, 0, 0, 0, 0, 0, 0, 0, 0, 0, 0, 0, 0, 0, 0, 0, 0, 0, 0,\n",
       "          0, 0, 0, 0, 0, 0, 0, 0, 0, 0, 0, 0, 0, 0, 0, 0, 0, 0, 0, 0, 0, 0, 0, 0,\n",
       "          0, 0, 0, 0, 0, 0, 0, 0, 0, 0, 0, 0, 0, 0, 0, 0, 0, 0, 0, 0, 0, 0, 0, 0,\n",
       "          0, 0, 0, 0, 0, 0, 0, 0, 0, 0, 0, 0, 0, 0, 0, 0, 0, 0, 0, 0, 0, 0, 0, 0,\n",
       "          0, 0, 0, 0, 0, 0, 0, 0, 0, 0],\n",
       "         [0, 0, 0, 0, 0, 0, 0, 0, 0, 0, 0, 0, 0, 0, 0, 0, 0, 0, 0, 0, 0, 0, 0, 0,\n",
       "          0, 0, 0, 0, 0, 0, 0, 0, 0, 0, 0, 0, 0, 0, 0, 0, 0, 0, 0, 0, 0, 0, 0, 0,\n",
       "          0, 0, 0, 0, 0, 0, 0, 0, 0, 0, 0, 0, 0, 0, 0, 0, 0, 0, 0, 0, 0, 0, 0, 0,\n",
       "          0, 0, 0, 0, 0, 0, 0, 0, 0, 0, 0, 0, 0, 0, 0, 0, 0, 0, 0, 0, 0, 0, 0, 0,\n",
       "          0, 0, 0, 0, 0, 0, 0, 0, 0, 0],\n",
       "         [0, 0, 0, 0, 0, 0, 0, 0, 0, 0, 0, 0, 0, 0, 0, 0, 0, 0, 0, 0, 0, 0, 0, 0,\n",
       "          0, 0, 0, 0, 0, 0, 0, 0, 0, 0, 0, 0, 0, 0, 0, 0, 0, 0, 0, 0, 0, 0, 0, 0,\n",
       "          0, 0, 0, 0, 0, 0, 0, 0, 0, 0, 0, 0, 0, 0, 0, 0, 0, 0, 0, 0, 0, 0, 0, 0,\n",
       "          0, 0, 0, 0, 0, 0, 0, 0, 0, 0, 0, 0, 0, 0, 0, 0, 0, 0, 0, 0, 0, 0, 0, 0,\n",
       "          0, 0, 0, 0, 0, 0, 0, 0, 0, 0],\n",
       "         [0, 0, 0, 0, 0, 0, 0, 0, 0, 0, 0, 0, 0, 0, 0, 0, 0, 0, 0, 0, 0, 0, 0, 0,\n",
       "          0, 0, 0, 0, 0, 0, 0, 0, 0, 0, 0, 0, 0, 0, 0, 0, 0, 0, 0, 0, 0, 0, 0, 0,\n",
       "          0, 0, 0, 0, 0, 0, 0, 0, 0, 0, 0, 0, 0, 0, 0, 0, 0, 0, 0, 0, 0, 0, 0, 0,\n",
       "          0, 0, 0, 0, 0, 0, 0, 0, 0, 0, 0, 0, 0, 0, 0, 0, 0, 0, 0, 0, 0, 0, 0, 0,\n",
       "          0, 0, 0, 0, 0, 0, 0, 0, 0, 0]]),\n",
       " 'attention_mask': tensor([[1, 1, 1, 1, 1, 1, 1, 1, 1, 1, 1, 1, 1, 1, 1, 1, 1, 1, 1, 1, 1, 1, 1, 1,\n",
       "          1, 1, 1, 1, 1, 1, 1, 1, 1, 1, 1, 1, 1, 1, 1, 1, 1, 1, 1, 1, 1, 1, 1, 1,\n",
       "          1, 1, 1, 1, 1, 1, 1, 1, 1, 1, 1, 1, 1, 1, 1, 1, 1, 1, 1, 1, 1, 1, 1, 1,\n",
       "          1, 1, 1, 1, 1, 1, 1, 1, 1, 1, 1, 1, 1, 1, 1, 1, 1, 1, 1, 1, 1, 1, 1, 1,\n",
       "          1, 1, 1, 1, 1, 1, 1, 1, 1, 0],\n",
       "         [1, 1, 1, 1, 1, 1, 1, 1, 1, 1, 1, 1, 1, 1, 1, 1, 1, 1, 1, 1, 1, 1, 1, 1,\n",
       "          1, 1, 1, 1, 1, 1, 1, 1, 1, 1, 1, 1, 1, 1, 1, 1, 1, 1, 1, 1, 1, 1, 1, 1,\n",
       "          1, 1, 1, 1, 1, 1, 1, 1, 1, 1, 1, 1, 1, 1, 1, 1, 1, 1, 1, 1, 1, 1, 1, 1,\n",
       "          1, 1, 1, 1, 1, 1, 1, 1, 1, 1, 1, 1, 1, 1, 1, 1, 1, 1, 1, 1, 1, 1, 1, 1,\n",
       "          1, 1, 1, 1, 1, 1, 1, 0, 0, 0],\n",
       "         [1, 1, 1, 1, 1, 1, 1, 1, 1, 1, 1, 1, 1, 1, 1, 1, 1, 1, 1, 1, 1, 1, 1, 1,\n",
       "          1, 1, 1, 1, 1, 1, 1, 1, 1, 1, 1, 1, 1, 1, 1, 1, 1, 1, 1, 1, 1, 1, 1, 1,\n",
       "          1, 1, 1, 1, 1, 1, 1, 1, 1, 1, 1, 1, 1, 1, 1, 1, 1, 1, 1, 1, 1, 1, 1, 1,\n",
       "          1, 1, 1, 1, 1, 1, 1, 1, 1, 1, 1, 1, 1, 1, 1, 1, 1, 1, 1, 1, 1, 1, 1, 1,\n",
       "          1, 1, 1, 1, 1, 1, 1, 1, 1, 1],\n",
       "         [1, 1, 1, 1, 1, 1, 1, 1, 1, 1, 1, 1, 1, 1, 1, 1, 1, 1, 1, 1, 1, 1, 1, 1,\n",
       "          1, 1, 1, 1, 1, 1, 1, 1, 1, 1, 1, 1, 1, 1, 1, 1, 1, 1, 1, 1, 1, 1, 1, 1,\n",
       "          1, 1, 1, 1, 1, 1, 1, 1, 1, 1, 1, 1, 1, 1, 1, 1, 1, 1, 1, 1, 1, 1, 1, 1,\n",
       "          1, 1, 1, 1, 1, 1, 1, 1, 1, 1, 1, 1, 1, 1, 1, 1, 1, 1, 1, 1, 1, 1, 1, 1,\n",
       "          1, 1, 1, 1, 1, 1, 1, 1, 0, 0],\n",
       "         [1, 1, 1, 1, 1, 1, 1, 1, 1, 1, 1, 1, 1, 1, 1, 1, 1, 1, 1, 1, 1, 1, 1, 1,\n",
       "          1, 1, 1, 1, 1, 1, 1, 1, 1, 1, 1, 1, 1, 1, 1, 1, 1, 1, 1, 1, 1, 1, 1, 1,\n",
       "          1, 1, 1, 1, 1, 1, 1, 1, 1, 1, 1, 1, 1, 1, 1, 1, 1, 1, 1, 1, 1, 1, 1, 1,\n",
       "          1, 1, 1, 1, 1, 1, 1, 1, 1, 1, 1, 1, 1, 1, 1, 1, 1, 1, 1, 1, 1, 1, 1, 1,\n",
       "          1, 1, 1, 1, 1, 1, 1, 0, 0, 0]])}"
      ]
     },
     "execution_count": 11,
     "metadata": {},
     "output_type": "execute_result"
    }
   ],
   "source": [
    "lm.preprocess(df[0:1])"
   ]
  },
  {
   "cell_type": "code",
   "execution_count": 12,
   "metadata": {},
   "outputs": [
    {
     "name": "stdout",
     "output_type": "stream",
     "text": [
      "Shape of input_ids:\ttorch.Size([50, 499])\n",
      "Shape of logits:\ttorch.Size([50, 499, 28996])\n"
     ]
    }
   ],
   "source": [
    "input_ = lm.preprocess(df)\n",
    "outputs = lm._forward(input_)\n",
    "\n",
    "for k, v in outputs.items():\n",
    "    print(f\"Shape of {k}:\\t{v.shape}\")"
   ]
  },
  {
   "cell_type": "code",
   "execution_count": 13,
   "metadata": {},
   "outputs": [
    {
     "data": {
      "text/plain": [
       "Output(loss=array([[1214.4108, 1196.6061, 1232.9644, 1201.0562, 1192.1794],\n",
       "       [3028.9084, 3015.8738, 3101.7854, 3097.1274, 3036.8232],\n",
       "       [2152.7812, 2229.096 , 2155.9805, 2143.7722, 2147.6968],\n",
       "       [1798.1527, 1769.2864, 1823.5278, 1877.3756, 1777.6583],\n",
       "       [2907.4917, 2912.1863, 2890.602 , 2912.61  , 2921.9517],\n",
       "       [3289.5093, 3277.1824, 3264.971 , 3317.948 , 3317.6692],\n",
       "       [1286.4143, 1292.952 , 1278.8005, 1297.5917, 1308.127 ],\n",
       "       [5588.8374, 5621.1724, 5607.1807, 5558.1553, 5570.4688],\n",
       "       [1957.8182, 1873.3116, 1910.833 , 1947.9403, 1907.3387],\n",
       "       [1653.0619, 1659.1809, 1694.7096, 1650.039 , 1657.2186]],\n",
       "      dtype=float32), prediction=array([4, 1, 3, 1, 2, 2, 2, 3, 1, 3], dtype=int64))"
      ]
     },
     "execution_count": 13,
     "metadata": {},
     "output_type": "execute_result"
    }
   ],
   "source": [
    "prediction = lm.postprocess(outputs)\n",
    "prediction"
   ]
  },
  {
   "cell_type": "code",
   "execution_count": 35,
   "metadata": {},
   "outputs": [],
   "source": [
    "import torch\n",
    "from torch.utils.data import Dataset, DataLoader\n",
    "\n",
    "class CustomDataset(Dataset):\n",
    "    choice_to_numeric = {'A': 0, 'B': 1, 'C': 2, 'D': 3, 'E': 4}\n",
    "\n",
    "    def __init__(self, questions, choices, labels):\n",
    "        self.questions = questions\n",
    "        # The choices are processed by extract_values, which we've adjusted for your data format\n",
    "        self.choices = [self.extract_values(choice_list) for choice_list in choices]\n",
    "        # Mapping labels using choice_to_numeric\n",
    "        self.labels = torch.tensor([self.choice_to_numeric[label] for label in labels], dtype=torch.long)\n",
    "\n",
    "    def __len__(self):\n",
    "        return len(self.labels)\n",
    "\n",
    "    def __getitem__(self, index):\n",
    "        question = self.questions[index]\n",
    "        choice = self.choices[index]\n",
    "        label = self.labels[index]\n",
    "        return {\"question\": question, \"choices\": choice, \"label\": label}\n",
    "\n",
    "    @staticmethod\n",
    "    def extract_values(choice_list):\n",
    "        # Assuming each choice_list is a list of dictionaries\n",
    "        return [item['value'] for item in choice_list]\n",
    "\n",
    "data = CustomDataset(medqa['question'], medqa['options'], medqa['answer_idx'])"
   ]
  },
  {
   "cell_type": "code",
   "execution_count": 36,
   "metadata": {},
   "outputs": [
    {
     "name": "stderr",
     "output_type": "stream",
     "text": []
    },
    {
     "ename": "TypeError",
     "evalue": "unhashable type: 'dict'",
     "output_type": "error",
     "traceback": [
      "\u001b[1;31m---------------------------------------------------------------------------\u001b[0m",
      "\u001b[1;31mTypeError\u001b[0m                                 Traceback (most recent call last)",
      "Cell \u001b[1;32mIn[36], line 3\u001b[0m\n\u001b[0;32m      1\u001b[0m \u001b[38;5;28;01mfrom\u001b[39;00m \u001b[38;5;21;01mtruthfulqa\u001b[39;00m \u001b[38;5;28;01mimport\u001b[39;00m run_model\n\u001b[0;32m      2\u001b[0m \u001b[38;5;28;01mfrom\u001b[39;00m \u001b[38;5;21;01mtqdm\u001b[39;00m \u001b[38;5;28;01mimport\u001b[39;00m tqdm\n\u001b[1;32m----> 3\u001b[0m results \u001b[38;5;241m=\u001b[39m [pipeline(data[i:i \u001b[38;5;241m+\u001b[39m \u001b[38;5;241m5\u001b[39m]) \u001b[38;5;28;01mfor\u001b[39;00m i \u001b[38;5;129;01min\u001b[39;00m tqdm(\u001b[38;5;28mrange\u001b[39m(\u001b[38;5;241m0\u001b[39m, \u001b[38;5;28mlen\u001b[39m(df), \u001b[38;5;241m10\u001b[39m))]\n",
      "Cell \u001b[1;32mIn[36], line 3\u001b[0m, in \u001b[0;36m<listcomp>\u001b[1;34m(.0)\u001b[0m\n\u001b[0;32m      1\u001b[0m \u001b[38;5;28;01mfrom\u001b[39;00m \u001b[38;5;21;01mtruthfulqa\u001b[39;00m \u001b[38;5;28;01mimport\u001b[39;00m run_model\n\u001b[0;32m      2\u001b[0m \u001b[38;5;28;01mfrom\u001b[39;00m \u001b[38;5;21;01mtqdm\u001b[39;00m \u001b[38;5;28;01mimport\u001b[39;00m tqdm\n\u001b[1;32m----> 3\u001b[0m results \u001b[38;5;241m=\u001b[39m [pipeline(data[i:i \u001b[38;5;241m+\u001b[39m \u001b[38;5;241m5\u001b[39m]) \u001b[38;5;28;01mfor\u001b[39;00m i \u001b[38;5;129;01min\u001b[39;00m tqdm(\u001b[38;5;28mrange\u001b[39m(\u001b[38;5;241m0\u001b[39m, \u001b[38;5;28mlen\u001b[39m(df), \u001b[38;5;241m10\u001b[39m))]\n",
      "File \u001b[1;32me:\\Anaconda3\\envs\\nlu\\Lib\\site-packages\\transformers\\pipelines\\__init__.py:808\u001b[0m, in \u001b[0;36mpipeline\u001b[1;34m(task, model, config, tokenizer, feature_extractor, image_processor, framework, revision, use_fast, token, device, device_map, torch_dtype, trust_remote_code, model_kwargs, pipeline_class, **kwargs)\u001b[0m\n\u001b[0;32m    805\u001b[0m     task \u001b[38;5;241m=\u001b[39m get_task(model, token)\n\u001b[0;32m    807\u001b[0m \u001b[38;5;66;03m# Retrieve the task\u001b[39;00m\n\u001b[1;32m--> 808\u001b[0m \u001b[38;5;28;01mif\u001b[39;00m task \u001b[38;5;129;01min\u001b[39;00m custom_tasks:\n\u001b[0;32m    809\u001b[0m     normalized_task \u001b[38;5;241m=\u001b[39m task\n\u001b[0;32m    810\u001b[0m     targeted_task, task_options \u001b[38;5;241m=\u001b[39m clean_custom_task(custom_tasks[task])\n",
      "\u001b[1;31mTypeError\u001b[0m: unhashable type: 'dict'"
     ]
    }
   ],
   "source": [
    "from truthfulqa import run_model\n",
    "from tqdm import tqdm\n",
    "results = [pipeline(data[i:i + 5]) for i in tqdm(range(0, len(df), 10))]"
   ]
  }
 ],
 "metadata": {
  "kernelspec": {
   "display_name": "Python 3",
   "language": "python",
   "name": "python3"
  },
  "language_info": {
   "codemirror_mode": {
    "name": "ipython",
    "version": 3
   },
   "file_extension": ".py",
   "mimetype": "text/x-python",
   "name": "python",
   "nbconvert_exporter": "python",
   "pygments_lexer": "ipython3",
   "version": "3.11.8"
  }
 },
 "nbformat": 4,
 "nbformat_minor": 2
}
