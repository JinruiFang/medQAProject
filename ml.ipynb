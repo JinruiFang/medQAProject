{
 "cells": [
  {
   "cell_type": "code",
   "execution_count": 2,
   "metadata": {},
   "outputs": [],
   "source": [
    "import textwrap\n",
    "from datasets import load_dataset\n",
    "from transformers import pipeline\n",
    "from truthfulqa import MultipleChoicePipeline"
   ]
  },
  {
   "cell_type": "code",
   "execution_count": 3,
   "metadata": {},
   "outputs": [
    {
     "name": "stderr",
     "output_type": "stream",
     "text": [
      "C:\\Users\\chen0\\AppData\\Roaming\\Python\\Python311\\site-packages\\datasets\\load.py:1461: FutureWarning: The repository for bigbio/med_qa contains custom code which must be executed to correctly load the dataset. You can inspect the repository content at https://hf.co/datasets/bigbio/med_qa\n",
      "You can avoid this message in future by passing the argument `trust_remote_code=True`.\n",
      "Passing `trust_remote_code=True` will be mandatory to load this dataset from the next major release of `datasets`.\n",
      "  warnings.warn(\n"
     ]
    }
   ],
   "source": [
    "medqa = load_dataset(\"bigbio/med_qa\", split=\"train[:20]\")"
   ]
  },
  {
   "cell_type": "code",
   "execution_count": 4,
   "metadata": {},
   "outputs": [
    {
     "data": {
      "text/plain": [
       "Dataset({\n",
       "    features: ['meta_info', 'question', 'answer_idx', 'answer', 'options'],\n",
       "    num_rows: 20\n",
       "})"
      ]
     },
     "execution_count": 4,
     "metadata": {},
     "output_type": "execute_result"
    }
   ],
   "source": [
    "medqa"
   ]
  },
  {
   "cell_type": "code",
   "execution_count": 5,
   "metadata": {},
   "outputs": [
    {
     "data": {
      "application/vnd.jupyter.widget-view+json": {
       "model_id": "a2f7796a517f451e96ee952b0ecf1524",
       "version_major": 2,
       "version_minor": 0
      },
      "text/plain": [
       "Map:   0%|          | 0/20 [00:00<?, ? examples/s]"
      ]
     },
     "metadata": {},
     "output_type": "display_data"
    }
   ],
   "source": [
    "def update_dataset(example):\n",
    "    # Numeric conversion for answer indices\n",
    "    choice_to_numeric = {'A': 0, 'B': 1, 'C': 2, 'D': 3, 'E': 4}\n",
    "    if example['answer_idx'] in choice_to_numeric:\n",
    "        example['label'] = choice_to_numeric[example['answer_idx']]\n",
    "    else:\n",
    "        example['label'] = None  # Or some default value\n",
    "    \n",
    "    # Extracting choice values\n",
    "    example['choices'] = [item['value'] for item in example['options']]\n",
    "    return example\n",
    "\n",
    "updated_dataset = medqa.map(update_dataset)"
   ]
  },
  {
   "cell_type": "code",
   "execution_count": 6,
   "metadata": {},
   "outputs": [
    {
     "data": {
      "text/plain": [
       "Dataset({\n",
       "    features: ['meta_info', 'question', 'answer_idx', 'answer', 'options'],\n",
       "    num_rows: 20\n",
       "})"
      ]
     },
     "execution_count": 6,
     "metadata": {},
     "output_type": "execute_result"
    }
   ],
   "source": [
    "medqa"
   ]
  },
  {
   "cell_type": "code",
   "execution_count": 8,
   "metadata": {},
   "outputs": [
    {
     "name": "stdout",
     "output_type": "stream",
     "text": [
      "Question: A 23-year-old pregnant woman at 22 weeks gestation presents with burning upon urination. She states it started 1 day ago and has been worsening despite drinking more water and taking cranberry extract. She otherwise feels well and is followed by a doctor for her pregnancy. Her temperature is 97.7°F (36.5°C), blood pressure is 122/77 mmHg, pulse is 80/min, respirations are 19/min, and oxygen saturation is 98% on room air. Physical exam is notable for an absence of costovertebral angle tenderness and a gravid uterus. Which of the following is the best treatment for this patient?\n",
      "\n",
      "Answer Choices:\n",
      " 0. Ampicillin\n",
      " 1. Ceftriaxone\n",
      " 2. Ciprofloxacin\n",
      " 3. Doxycycline\n",
      " 4. Nitrofurantoin\n",
      "\n",
      "Correct Answer: 4\n",
      "Question: A 3-month-old baby died suddenly at night while asleep. His mother noticed that he had died only after she awoke in the morning. No cause of death was determined based on the autopsy. Which of the following precautions could have prevented the death of the baby?\n",
      "\n",
      "Answer Choices:\n",
      " 0. Placing the infant in a supine position on a firm mattress while\n",
      "    sleeping\n",
      " 1. Routine postnatal electrocardiogram (ECG)\n",
      " 2. Keeping the infant covered and maintaining a high room temperature\n",
      " 3. Application of a device to maintain the sleeping position\n",
      " 4. Avoiding pacifier use during sleep\n",
      "\n",
      "Correct Answer: 0\n",
      "Question: A mother brings her 3-week-old infant to the pediatrician's office because she is concerned about his feeding habits. He was born without complications and has not had any medical problems up until this time. However, for the past 4 days, he has been fussy, is regurgitating all of his feeds, and his vomit is yellow in color. On physical exam, the child's abdomen is minimally distended but no other abnormalities are appreciated. Which of the following embryologic errors could account for this presentation?\n",
      "\n",
      "Answer Choices:\n",
      " 0. Abnormal migration of ventral pancreatic bud\n",
      " 1. Complete failure of proximal duodenum to recanalize\n",
      " 2. Error in neural crest cell migration\n",
      " 3. Abnormal hypertrophy of the pylorus\n",
      " 4. Failure of lateral body folds to move ventrally and fuse in the\n",
      "    midline\n",
      "\n",
      "Correct Answer: 0\n",
      "Question: A pulmonary autopsy specimen from a 58-year-old woman who died of acute hypoxic respiratory failure was examined. She had recently undergone surgery for a fractured femur 3 months ago. Initial hospital course was uncomplicated, and she was discharged to a rehab facility in good health. Shortly after discharge home from rehab, she developed sudden shortness of breath and had cardiac arrest. Resuscitation was unsuccessful. On histological examination of lung tissue, fibrous connective tissue around the lumen of the pulmonary artery is observed. Which of the following is the most likely pathogenesis for the present findings?\n",
      "\n",
      "Answer Choices:\n",
      " 0. Thromboembolism\n",
      " 1. Pulmonary ischemia\n",
      " 2. Pulmonary hypertension\n",
      " 3. Pulmonary passive congestion\n",
      " 4. Pulmonary hemorrhage\n",
      "\n",
      "Correct Answer: 0\n",
      "Question: A 20-year-old woman presents with menorrhagia for the past several years. She says that her menses “have always been heavy”, and she has experienced easy bruising for as long as she can remember. Family history is significant for her mother, who had similar problems with bruising easily. The patient's vital signs include: heart rate 98/min, respiratory rate 14/min, temperature 36.1°C (96.9°F), and blood pressure 110/87 mm Hg. Physical examination is unremarkable. Laboratory tests show the following: platelet count 200,000/mm3, PT 12 seconds, and PTT 43 seconds. Which of the following is the most likely cause of this patient’s symptoms?\n",
      "\n",
      "Answer Choices:\n",
      " 0. Factor V Leiden\n",
      " 1. Hemophilia A\n",
      " 2. Lupus anticoagulant\n",
      " 3. Protein C deficiency\n",
      " 4. Von Willebrand disease\n",
      "\n",
      "Correct Answer: 4\n",
      "Question: A 40-year-old zookeeper presents to the emergency department complaining of severe abdominal pain that radiates to her back, and nausea. The pain started 2 days ago and slowly increased until she could not tolerate it any longer. Past medical history is significant for hypertension and hypothyroidism. Additionally, she reports that she was recently stung by one of the zoo’s smaller scorpions, but did not seek medical treatment. She takes aspirin, levothyroxine, oral contraceptive pills, and a multivitamin daily. Family history is noncontributory. Today, her blood pressure is 108/58 mm Hg, heart rate is 99/min, respiratory rate is 21/min, and temperature is 37.0°C (98.6°F). On physical exam, she is a well-developed, obese female that looks unwell. Her heart has a regular rate and rhythm. Radial pulses are weak but symmetric. Her lungs are clear to auscultation bilaterally. Her lateral left ankle is swollen, erythematous, and painful to palpate. An abdominal CT is consistent with acute pancreatitis. Which of the following is the most likely etiology for this patient’s disease?\n",
      "\n",
      "Answer Choices:\n",
      " 0. Aspirin\n",
      " 1. Oral contraceptive pills\n",
      " 2. Scorpion sting\n",
      " 3. Hypothyroidism\n",
      " 4. Obesity\n",
      "\n",
      "Correct Answer: 2\n",
      "Question: A 25-year-old primigravida presents to her physician for a routine prenatal visit. She is at 34 weeks gestation, as confirmed by an ultrasound examination. She has no complaints, but notes that the new shoes she bought 2 weeks ago do not fit anymore. The course of her pregnancy has been uneventful and she has been compliant with the recommended prenatal care. Her medical history is unremarkable. She has a 15-pound weight gain since the last visit 3 weeks ago. Her vital signs are as follows: blood pressure, 148/90 mm Hg; heart rate, 88/min; respiratory rate, 16/min; and temperature, 36.6℃ (97.9℉). The blood pressure on repeat assessment 4 hours later is 151/90 mm Hg. The fetal heart rate is 151/min. The physical examination is significant for 2+ pitting edema of the lower extremity. Which of the following tests o should confirm the probable condition of this patient?\n",
      "\n",
      "Answer Choices:\n",
      " 0. Bilirubin assessment\n",
      " 1. Coagulation studies\n",
      " 2. Hematocrit assessment\n",
      " 3. Leukocyte count with differential\n",
      " 4. 24-hour urine protein\n",
      "\n",
      "Correct Answer: 4\n",
      "Question: A 3900-g (8.6-lb) male infant is delivered at 39 weeks' gestation via spontaneous vaginal delivery. Pregnancy and delivery were uncomplicated but a prenatal ultrasound at 20 weeks showed a defect in the pleuroperitoneal membrane. Further evaluation of this patient is most likely to show which of the following findings?\n",
      "\n",
      "Answer Choices:\n",
      " 0. Gastric fundus in the thorax\n",
      " 1. Pancreatic ring around the duodenum\n",
      " 2. Small and cystic kidneys\n",
      " 3. Hypertrophy of the gastric pylorus\n",
      " 4. Large bowel in the inguinal canal\n",
      "\n",
      "Correct Answer: 0\n",
      "Question: A 62-year-old woman presents for a regular check-up. She complains of lightheadedness and palpitations which occur episodically. Past medical history is significant for a myocardial infarction 6 months ago and NYHA class II chronic heart failure. She also was diagnosed with grade I arterial hypertension 4 years ago. Current medications are aspirin 81 mg, atorvastatin 10 mg, enalapril 10 mg, and metoprolol 200 mg daily. Her vital signs are a blood pressure of 135/90 mm Hg, a heart rate of 125/min, a respiratory rate of 14/min, and a temperature of 36.5°C (97.7°F). Cardiopulmonary examination is significant for irregular heart rhythm and decreased S1 intensity. ECG is obtained and is shown in the picture (see image). Echocardiography shows a left ventricular ejection fraction of 39%. Which of the following drugs is the best choice for rate control in this patient?\n",
      "\n",
      "Answer Choices:\n",
      " 0. Atenolol\n",
      " 1. Verapamil\n",
      " 2. Diltiazem\n",
      " 3. Propafenone\n",
      " 4. Digoxin\n",
      "\n",
      "Correct Answer: 4\n",
      "Question: A 35-year-old male presents to his primary care physician with complaints of seasonal allergies. He has been using intranasal vasoconstrictors several times per day for several weeks. What is a likely sequela of the chronic use of topical nasal decongestants?\n",
      "\n",
      "Answer Choices:\n",
      " 0. Epistaxis\n",
      " 1. Hypertension\n",
      " 2. Permanent loss of smell\n",
      " 3. Persistent nasal crusting\n",
      " 4. Persistent congestion\n",
      "\n",
      "Correct Answer: 4\n",
      "Question: A 46-year-old woman comes to the physician because of a 2-week history of diplopia and ocular pain when reading the newspaper. She also has a 3-month history of amenorrhea, hot flashes, and increased sweating. She reports that she has been overweight all her adult life and is happy to have lost 6.8-kg (15-lb) of weight in the past 2 months. Her pulse is 110/min, and blood pressure is 148/98 mm Hg. Physical examination shows moist palms and a nontender thyroid gland that is enlarged to two times its normal size. Ophthalmologic examination shows prominence of the globes of the eyes, bilateral lid retraction, conjunctival injection, and an inability to converge the eyes. There is no pain on movement of the extraocular muscles. Visual acuity is 20/20 bilaterally. Neurologic examination shows a fine resting tremor of the hands. Deep tendon reflexes are 3+ with a shortened relaxation phase. Which of the following is the most likely cause of this patient's ocular complaints?\n",
      "\n",
      "Answer Choices:\n",
      " 0. Granulomatous inflammation of the cavernous sinus\n",
      " 1. Abnormal communication between the cavernous sinus and the internal\n",
      "    carotid artery\n",
      " 2. Glycosaminoglycan accumulation in the orbit\n",
      " 3. Bacterial infection of the orbital contents\n",
      " 4. Sympathetic hyperactivity of levator palpebrae superioris \"\n",
      "\n",
      "Correct Answer: 2\n",
      "Question: A 1-year-old boy presents to the emergency department with weakness and a change in his behavior. His parents state that they first noticed the change in his behavior this morning and it has been getting worse. They noticed the patient was initially weak in his upper body and arms, but now he won’t move his legs with as much strength or vigor as he used to. Physical exam is notable for bilateral ptosis with a sluggish pupillary response, a very weak sucking and gag reflex, and shallow respirations. The patient is currently drooling and his diaper is dry. The parents state he has not had a bowel movement in over 1 day. Which of the following is the pathophysiology of this patient’s condition?\n",
      "\n",
      "Answer Choices:\n",
      " 0. Antibodies against postsynaptic nicotinic cholinergic ion channels\n",
      " 1. Autoantibodies against the presynaptic voltage-gated calcium channels\n",
      " 2. Autoimmune demyelination of peripheral nerves\n",
      " 3. Blockade of presynaptic acetylcholine release at the neuromuscular\n",
      "    junction\n",
      " 4. Lower motor neuron destruction in the anterior horn\n",
      "\n",
      "Correct Answer: 3\n",
      "Question: A 9-month-old female is brought to the emergency department after experiencing a seizure. She was born at home and was normal at birth according to her parents. Since then, they have noticed that she does not appear to be achieving developmental milestones as quickly as her siblings, and often appears lethargic. Physical exam reveals microcephaly, very light pigmentation (as compared to her family), and a \"musty\" body odor. The varied manifestations of this disease can most likely be attributed to which of the following genetic principles?\n",
      "\n",
      "Answer Choices:\n",
      " 0. Anticipation\n",
      " 1. Incomplete penetrance\n",
      " 2. Multiple gene mutations\n",
      " 3. Pleiotropy\n",
      " 4. Variable expressivity\n",
      "\n",
      "Correct Answer: 3\n",
      "Question: A 23-year-old man comes to the physician for evaluation of decreased hearing, dizziness, and ringing in his right ear for the past 6 months. Physical examination shows multiple soft, yellow plaques and papules on his arms, chest, and back. There is sensorineural hearing loss and weakness of facial muscles bilaterally. His gait is unsteady. An MRI of the brain shows a 3-cm mass near the right internal auditory meatus and a 2-cm mass at the left cerebellopontine angle. The abnormal cells in these masses are most likely derived from which of the following embryological structures?\n",
      "\n",
      "Answer Choices:\n",
      " 0. Neural tube\n",
      " 1. Surface ectoderm\n",
      " 2. Neural crest\n",
      " 3. Notochord\n",
      " 4. Mesoderm\n",
      "\n",
      "Correct Answer: 2\n",
      "Question: A 62-year-old woman comes to the physician because of coughing and fatigue during the past 2 years. In the morning, the cough is productive of white phlegm. She becomes short of breath walking up a flight of stairs. She has hypertension and hyperlipidemia. She has recently retired from working as a nurse at a homeless shelter. She has smoked 1 pack of cigarettes daily for 40 years. Current medications include ramipril and fenofibrate. Her temperature is 36.5°C (97.7°F), respirations are 24/min, pulse is 85/min, and blood pressure is 140/90 mm Hg. Scattered wheezing and rhonchi are heard throughout both lung fields. There are no murmurs, rubs, or gallops but heart sounds are distant. Which of the following is the most likely underlying cause of this patient's symptoms?\n",
      "\n",
      "Answer Choices:\n",
      " 0. Chronic decrease in pulmonary compliance\n",
      " 1. Local accumulation of kinins\n",
      " 2. Mycobacterial invasion of pulmonary parenchyma\n",
      " 3. Progressive obstruction of expiratory airflow\n",
      " 4. Incremental loss of functional residual capacity \"\n",
      "\n",
      "Correct Answer: 3\n",
      "Question: A 68-year-old man presents to the emergency department with leg pain. He states that the pain started suddenly while he was walking outside. The patient has a past medical history of diabetes, hypertension, obesity, and atrial fibrillation. His temperature is 99.3°F (37.4°C), blood pressure is 152/98 mmHg, pulse is 97/min, respirations are 15/min, and oxygen saturation is 99% on room air. Physical exam is notable for a cold and pale left leg. The patient’s sensation is markedly diminished in the left leg when compared to the right, and his muscle strength is 1/5 in his left leg. Which of the following is the best next step in management?\n",
      "\n",
      "Answer Choices:\n",
      " 0. CT angiogram\n",
      " 1. Graded exercise and aspirin\n",
      " 2. Heparin drip\n",
      " 3. Surgical thrombectomy\n",
      " 4. Tissue plasminogen activator\n",
      "\n",
      "Correct Answer: 2\n",
      "Question: A 76-year-old African American man presents to his primary care provider complaining of urinary frequency. He wakes up 3-4 times per night to urinate while he previously only had to wake up once per night. He also complains of post-void dribbling and difficulty initiating a stream of urine. He denies any difficulty maintaining an erection. His past medical history is notable for non-alcoholic fatty liver disease, hypertension, hyperlipidemia, and gout. He takes aspirin, atorvastatin, enalapril, and allopurinol. His family history is notable for prostate cancer in his father and lung cancer in his mother. He has a 15-pack-year smoking history and drinks alcohol socially. On digital rectal exam, his prostate is enlarged, smooth, and non-tender. Which of the following medications is indicated in this patient?\n",
      "\n",
      "Answer Choices:\n",
      " 0. Clonidine\n",
      " 1. Hydrochlorothiazide\n",
      " 2. Midodrine\n",
      " 3. Oxybutynin\n",
      " 4. Tamsulosin\n",
      "\n",
      "Correct Answer: 4\n",
      "Question: A 68-year-old man comes to the physician because of recurrent episodes of nausea and abdominal discomfort for the past 4 months. The discomfort is located in the upper abdomen and sometimes occurs after eating, especially after a big meal. He has tried to go for a walk after dinner to help with digestion, but his complaints have only increased. For the past 3 weeks he has also had symptoms while climbing the stairs to his apartment. He has type 2 diabetes mellitus, hypertension, and stage 2 peripheral arterial disease. He has smoked one pack of cigarettes daily for the past 45 years. He drinks one to two beers daily and occasionally more on weekends. His current medications include metformin, enalapril, and aspirin. He is 168 cm (5 ft 6 in) tall and weighs 126 kg (278 lb); BMI is 45 kg/m2. His temperature is 36.4°C (97.5°F), pulse is 78/min, and blood pressure is 148/86 mm Hg. On physical examination, the abdomen is soft and nontender with no organomegaly. Foot pulses are absent bilaterally. An ECG shows no abnormalities. Which of the following is the most appropriate next step in diagnosis?\n",
      "\n",
      "Answer Choices:\n",
      " 0. Esophagogastroduodenoscopy\n",
      " 1. CT scan of the abdomen\n",
      " 2. Hydrogen breath test\n",
      " 3. Cardiac stress test\n",
      " 4. Abdominal ultrasonography of the right upper quadrant\n",
      "\n",
      "Correct Answer: 3\n",
      "Question: A 27-year-old female presents to general medical clinic for a routine checkup. She has a genetic disease marked by a mutation in a chloride transporter. She has a history of chronic bronchitis. She has a brother with a similar history of infections as well as infertility. Which of the following is most likely true regarding a potential vitamin deficiency complication secondary to this patient's chronic illness?\n",
      "\n",
      "Answer Choices:\n",
      " 0. It may result in connective tissue defects\n",
      " 1. It may result in corneal vascularization\n",
      " 2. It may result in the triad of confusion, ophthalmoplegia, and ataxia\n",
      " 3. It may be exacerbated by excessive ingestion of raw eggs\n",
      " 4. It may manifest itself as a prolonged PT\n",
      "\n",
      "Correct Answer: 4\n",
      "Question: A previously healthy 36-year-old man comes to the physician for a yellow discoloration of his skin and dark-colored urine for 2 weeks. He does not drink any alcohol. Physical examination shows jaundice. Abdominal and neurologic examinations show no abnormalities. Serum studies show increased levels of alanine aminotransferase (ALT) and aspartate aminotransferase (AST). A liver biopsy is performed and a photomicrograph after periodic acid-Schiff-staining is shown. Which of the following is the most likely additional finding in this patient?\n",
      "\n",
      "Answer Choices:\n",
      " 0. Tropheryma whipplei-specific RNA on PCR\n",
      " 1. Bullous changes of the lung bases on chest CT\n",
      " 2. Beading of intra- and extrahepatic bile ducts on ERCP\n",
      " 3. Myocardial iron deposition on cardiovascular MRI\n",
      " 4. Dark corneal ring on slit-lamp examination\n",
      "\n",
      "Correct Answer: 1\n"
     ]
    }
   ],
   "source": [
    "for i in range(20):\n",
    "    q1 = updated_dataset[i]\n",
    "    print(f\"Question: {q1['question']}\\n\\nAnswer Choices:\")\n",
    "    for i, c in enumerate(q1[\"options\"]):\n",
    "        print(f\" {i}. {textwrap.fill(c['value'], subsequent_indent=' ' * 4)}\")\n",
    "    print(f\"\\nCorrect Answer: {q1['label']}\")"
   ]
  },
  {
   "cell_type": "code",
   "execution_count": 50,
   "metadata": {},
   "outputs": [
    {
     "name": "stderr",
     "output_type": "stream",
     "text": [
      "If you want to use `BertLMHeadModel` as a standalone, add `is_decoder=True.`\n"
     ]
    }
   ],
   "source": [
    "# Use \n",
    "generator = pipeline(\"text-generation\", model=\"dmis-lab/biobert-base-cased-v1.1\")"
   ]
  },
  {
   "cell_type": "code",
   "execution_count": 53,
   "metadata": {},
   "outputs": [
    {
     "data": {
      "text/plain": [
       "[{'generated_text': 'Q: A 21-year-old sexually active male complains of fever, pain during urination, and inflammation and pain in the right knee. A culture of the joint fluid shows a bacteria that does not ferment maltose and has no polysaccharide capsule. The physician orders antibiotic therapy for the patient. The mechanism of action of action of the medication given blocks cell wall synthesis, which of the following was given? 3. Ceftriaxone A:eimeimeimgolropic'}]"
      ]
     },
     "execution_count": 53,
     "metadata": {},
     "output_type": "execute_result"
    }
   ],
   "source": [
    "generator(\"Q: A 21-year-old sexually active male complains of fever, pain during urination, and inflammation and pain in the right knee. A culture of the joint fluid shows a bacteria that does not ferment maltose and has no polysaccharide capsule. The physician orders antibiotic therapy for the patient. The mechanism of action of action of the medication given blocks cell wall synthesis, which of the following was given? 3. Ceftriaxone A:\", max_new_tokens=5, do_sample=False)"
   ]
  },
  {
   "cell_type": "code",
   "execution_count": 45,
   "metadata": {},
   "outputs": [
    {
     "name": "stderr",
     "output_type": "stream",
     "text": [
      "If you want to use `BertLMHeadModel` as a standalone, add `is_decoder=True.`\n"
     ]
    }
   ],
   "source": [
    "lm = MultipleChoicePipeline(model=\"dmis-lab/biobert-base-cased-v1.1\")"
   ]
  },
  {
   "cell_type": "code",
   "execution_count": 46,
   "metadata": {},
   "outputs": [
    {
     "data": {
      "text/plain": [
       "['Q: A 21-year-old sexually active male complains of fever, pain during urination, and inflammation and pain in the right knee. A culture of the joint fluid shows a bacteria that does not ferment maltose and has no polysaccharide capsule. The physician orders antibiotic therapy for the patient. The mechanism of action of action of the medication given blocks cell wall synthesis, which of the following was given?\\nA: Chloramphenicol',\n",
       " 'Q: A 21-year-old sexually active male complains of fever, pain during urination, and inflammation and pain in the right knee. A culture of the joint fluid shows a bacteria that does not ferment maltose and has no polysaccharide capsule. The physician orders antibiotic therapy for the patient. The mechanism of action of action of the medication given blocks cell wall synthesis, which of the following was given?\\nA: Gentamicin',\n",
       " 'Q: A 21-year-old sexually active male complains of fever, pain during urination, and inflammation and pain in the right knee. A culture of the joint fluid shows a bacteria that does not ferment maltose and has no polysaccharide capsule. The physician orders antibiotic therapy for the patient. The mechanism of action of action of the medication given blocks cell wall synthesis, which of the following was given?\\nA: Ciprofloxacin',\n",
       " 'Q: A 21-year-old sexually active male complains of fever, pain during urination, and inflammation and pain in the right knee. A culture of the joint fluid shows a bacteria that does not ferment maltose and has no polysaccharide capsule. The physician orders antibiotic therapy for the patient. The mechanism of action of action of the medication given blocks cell wall synthesis, which of the following was given?\\nA: Ceftriaxone',\n",
       " 'Q: A 21-year-old sexually active male complains of fever, pain during urination, and inflammation and pain in the right knee. A culture of the joint fluid shows a bacteria that does not ferment maltose and has no polysaccharide capsule. The physician orders antibiotic therapy for the patient. The mechanism of action of action of the medication given blocks cell wall synthesis, which of the following was given?\\nA: Trimethoprim',\n",
       " 'Q: A 5-year-old girl is brought to the emergency department by her mother because of multiple episodes of nausea and vomiting that last about 2 hours. During this period, she has had 6–8 episodes of bilious vomiting and abdominal pain. The vomiting was preceded by fatigue. The girl feels well between these episodes. She has missed several days of school and has been hospitalized 2 times during the past 6 months for dehydration due to similar episodes of vomiting and nausea. The patient has lived with her mother since her parents divorced 8 months ago. Her immunizations are up-to-date. She is at the 60th percentile for height and 30th percentile for weight. She appears emaciated. Her temperature is 36.8°C (98.8°F), pulse is 99/min, and blood pressure is 82/52 mm Hg. Examination shows dry mucous membranes. The lungs are clear to auscultation. Abdominal examination shows a soft abdomen with mild diffuse tenderness with no guarding or rebound. The remainder of the physical examination shows no abnormalities. Which of the following is the most likely diagnosis?\\nA: Cyclic vomiting syndrome',\n",
       " 'Q: A 5-year-old girl is brought to the emergency department by her mother because of multiple episodes of nausea and vomiting that last about 2 hours. During this period, she has had 6–8 episodes of bilious vomiting and abdominal pain. The vomiting was preceded by fatigue. The girl feels well between these episodes. She has missed several days of school and has been hospitalized 2 times during the past 6 months for dehydration due to similar episodes of vomiting and nausea. The patient has lived with her mother since her parents divorced 8 months ago. Her immunizations are up-to-date. She is at the 60th percentile for height and 30th percentile for weight. She appears emaciated. Her temperature is 36.8°C (98.8°F), pulse is 99/min, and blood pressure is 82/52 mm Hg. Examination shows dry mucous membranes. The lungs are clear to auscultation. Abdominal examination shows a soft abdomen with mild diffuse tenderness with no guarding or rebound. The remainder of the physical examination shows no abnormalities. Which of the following is the most likely diagnosis?\\nA: Gastroenteritis',\n",
       " 'Q: A 5-year-old girl is brought to the emergency department by her mother because of multiple episodes of nausea and vomiting that last about 2 hours. During this period, she has had 6–8 episodes of bilious vomiting and abdominal pain. The vomiting was preceded by fatigue. The girl feels well between these episodes. She has missed several days of school and has been hospitalized 2 times during the past 6 months for dehydration due to similar episodes of vomiting and nausea. The patient has lived with her mother since her parents divorced 8 months ago. Her immunizations are up-to-date. She is at the 60th percentile for height and 30th percentile for weight. She appears emaciated. Her temperature is 36.8°C (98.8°F), pulse is 99/min, and blood pressure is 82/52 mm Hg. Examination shows dry mucous membranes. The lungs are clear to auscultation. Abdominal examination shows a soft abdomen with mild diffuse tenderness with no guarding or rebound. The remainder of the physical examination shows no abnormalities. Which of the following is the most likely diagnosis?\\nA: Hypertrophic pyloric stenosis',\n",
       " 'Q: A 5-year-old girl is brought to the emergency department by her mother because of multiple episodes of nausea and vomiting that last about 2 hours. During this period, she has had 6–8 episodes of bilious vomiting and abdominal pain. The vomiting was preceded by fatigue. The girl feels well between these episodes. She has missed several days of school and has been hospitalized 2 times during the past 6 months for dehydration due to similar episodes of vomiting and nausea. The patient has lived with her mother since her parents divorced 8 months ago. Her immunizations are up-to-date. She is at the 60th percentile for height and 30th percentile for weight. She appears emaciated. Her temperature is 36.8°C (98.8°F), pulse is 99/min, and blood pressure is 82/52 mm Hg. Examination shows dry mucous membranes. The lungs are clear to auscultation. Abdominal examination shows a soft abdomen with mild diffuse tenderness with no guarding or rebound. The remainder of the physical examination shows no abnormalities. Which of the following is the most likely diagnosis?\\nA: Gastroesophageal reflux disease',\n",
       " 'Q: A 5-year-old girl is brought to the emergency department by her mother because of multiple episodes of nausea and vomiting that last about 2 hours. During this period, she has had 6–8 episodes of bilious vomiting and abdominal pain. The vomiting was preceded by fatigue. The girl feels well between these episodes. She has missed several days of school and has been hospitalized 2 times during the past 6 months for dehydration due to similar episodes of vomiting and nausea. The patient has lived with her mother since her parents divorced 8 months ago. Her immunizations are up-to-date. She is at the 60th percentile for height and 30th percentile for weight. She appears emaciated. Her temperature is 36.8°C (98.8°F), pulse is 99/min, and blood pressure is 82/52 mm Hg. Examination shows dry mucous membranes. The lungs are clear to auscultation. Abdominal examination shows a soft abdomen with mild diffuse tenderness with no guarding or rebound. The remainder of the physical examination shows no abnormalities. Which of the following is the most likely diagnosis?\\nA: Acute intermittent porphyria']"
      ]
     },
     "execution_count": 46,
     "metadata": {},
     "output_type": "execute_result"
    }
   ],
   "source": [
    "lm._get_input_texts(updated_dataset[0:2])"
   ]
  },
  {
   "cell_type": "code",
   "execution_count": 47,
   "metadata": {},
   "outputs": [
    {
     "data": {
      "text/plain": [
       "['Q: A 21-year-old sexually active male complains of fever, pain during urination, and inflammation and pain in the right knee. A culture of the joint fluid shows a bacteria that does not ferment maltose and has no polysaccharide capsule. The physician orders antibiotic therapy for the patient. The mechanism of action of action of the medication given blocks cell wall synthesis, which of the following was given?\\nA: In fact, Chloramphenicol',\n",
       " 'Q: A 21-year-old sexually active male complains of fever, pain during urination, and inflammation and pain in the right knee. A culture of the joint fluid shows a bacteria that does not ferment maltose and has no polysaccharide capsule. The physician orders antibiotic therapy for the patient. The mechanism of action of action of the medication given blocks cell wall synthesis, which of the following was given?\\nA: In fact, Gentamicin',\n",
       " 'Q: A 21-year-old sexually active male complains of fever, pain during urination, and inflammation and pain in the right knee. A culture of the joint fluid shows a bacteria that does not ferment maltose and has no polysaccharide capsule. The physician orders antibiotic therapy for the patient. The mechanism of action of action of the medication given blocks cell wall synthesis, which of the following was given?\\nA: In fact, Ciprofloxacin',\n",
       " 'Q: A 21-year-old sexually active male complains of fever, pain during urination, and inflammation and pain in the right knee. A culture of the joint fluid shows a bacteria that does not ferment maltose and has no polysaccharide capsule. The physician orders antibiotic therapy for the patient. The mechanism of action of action of the medication given blocks cell wall synthesis, which of the following was given?\\nA: In fact, Ceftriaxone',\n",
       " 'Q: A 21-year-old sexually active male complains of fever, pain during urination, and inflammation and pain in the right knee. A culture of the joint fluid shows a bacteria that does not ferment maltose and has no polysaccharide capsule. The physician orders antibiotic therapy for the patient. The mechanism of action of action of the medication given blocks cell wall synthesis, which of the following was given?\\nA: In fact, Trimethoprim']"
      ]
     },
     "execution_count": 47,
     "metadata": {},
     "output_type": "execute_result"
    }
   ],
   "source": [
    "lm.set_system_prompt(\"In fact,\")\n",
    "lm._get_input_texts(updated_dataset[0:1])"
   ]
  },
  {
   "cell_type": "code",
   "execution_count": 48,
   "metadata": {},
   "outputs": [
    {
     "name": "stderr",
     "output_type": "stream",
     "text": [
      "Asking to truncate to max_length but no maximum length is provided and the model has no predefined maximum length. Default to no truncation.\n"
     ]
    },
    {
     "data": {
      "text/plain": [
       "{'input_ids': tensor([[  101,   186,   131,   170,  1626,   118,  1214,   118,  1385, 13014,\n",
       "           2327,  2581, 19073,  1116,  1104, 10880,   117,  2489,  1219,   190,\n",
       "           9324,  2116,   117,  1105, 24970,  1105,  2489,  1107,  1103,  1268,\n",
       "           5656,   119,   170,  2754,  1104,  1103,  4091,  8240,  2196,   170,\n",
       "          10548,  1115,  1674,  1136,   175,  1200,  1880, 12477,  6066,  6787,\n",
       "           1105,  1144,  1185,   185, 23415,  3202, 19515, 16234,  2007, 21749,\n",
       "            119,  1103,  7454,  3791,  2848, 22400,  7606,  1111,  1103,  5351,\n",
       "            119,  1103,  6978,  1104,  2168,  1104,  2168,  1104,  1103, 15683,\n",
       "           1549,  5511,  2765,  2095, 11362,   117,  1134,  1104,  1103,  1378,\n",
       "           1108,  1549,   136,   170,   131,  1107,  1864,   117, 22572, 24171,\n",
       "           8223, 10436, 10658,  1233,   102,     0],\n",
       "         [  101,   186,   131,   170,  1626,   118,  1214,   118,  1385, 13014,\n",
       "           2327,  2581, 19073,  1116,  1104, 10880,   117,  2489,  1219,   190,\n",
       "           9324,  2116,   117,  1105, 24970,  1105,  2489,  1107,  1103,  1268,\n",
       "           5656,   119,   170,  2754,  1104,  1103,  4091,  8240,  2196,   170,\n",
       "          10548,  1115,  1674,  1136,   175,  1200,  1880, 12477,  6066,  6787,\n",
       "           1105,  1144,  1185,   185, 23415,  3202, 19515, 16234,  2007, 21749,\n",
       "            119,  1103,  7454,  3791,  2848, 22400,  7606,  1111,  1103,  5351,\n",
       "            119,  1103,  6978,  1104,  2168,  1104,  2168,  1104,  1103, 15683,\n",
       "           1549,  5511,  2765,  2095, 11362,   117,  1134,  1104,  1103,  1378,\n",
       "           1108,  1549,   136,   170,   131,  1107,  1864,   117,   176,  3452,\n",
       "          11787, 16430,   102,     0,     0,     0],\n",
       "         [  101,   186,   131,   170,  1626,   118,  1214,   118,  1385, 13014,\n",
       "           2327,  2581, 19073,  1116,  1104, 10880,   117,  2489,  1219,   190,\n",
       "           9324,  2116,   117,  1105, 24970,  1105,  2489,  1107,  1103,  1268,\n",
       "           5656,   119,   170,  2754,  1104,  1103,  4091,  8240,  2196,   170,\n",
       "          10548,  1115,  1674,  1136,   175,  1200,  1880, 12477,  6066,  6787,\n",
       "           1105,  1144,  1185,   185, 23415,  3202, 19515, 16234,  2007, 21749,\n",
       "            119,  1103,  7454,  3791,  2848, 22400,  7606,  1111,  1103,  5351,\n",
       "            119,  1103,  6978,  1104,  2168,  1104,  2168,  1104,  1103, 15683,\n",
       "           1549,  5511,  2765,  2095, 11362,   117,  1134,  1104,  1103,  1378,\n",
       "           1108,  1549,   136,   170,   131,  1107,  1864,   117,   172,  9717,\n",
       "           2180,  2087,  2858, 20192, 16430,   102],\n",
       "         [  101,   186,   131,   170,  1626,   118,  1214,   118,  1385, 13014,\n",
       "           2327,  2581, 19073,  1116,  1104, 10880,   117,  2489,  1219,   190,\n",
       "           9324,  2116,   117,  1105, 24970,  1105,  2489,  1107,  1103,  1268,\n",
       "           5656,   119,   170,  2754,  1104,  1103,  4091,  8240,  2196,   170,\n",
       "          10548,  1115,  1674,  1136,   175,  1200,  1880, 12477,  6066,  6787,\n",
       "           1105,  1144,  1185,   185, 23415,  3202, 19515, 16234,  2007, 21749,\n",
       "            119,  1103,  7454,  3791,  2848, 22400,  7606,  1111,  1103,  5351,\n",
       "            119,  1103,  6978,  1104,  2168,  1104,  2168,  1104,  1103, 15683,\n",
       "           1549,  5511,  2765,  2095, 11362,   117,  1134,  1104,  1103,  1378,\n",
       "           1108,  1549,   136,   170,   131,  1107,  1864,   117,   172, 11470,\n",
       "          19091,  7897,  4798,   102,     0,     0],\n",
       "         [  101,   186,   131,   170,  1626,   118,  1214,   118,  1385, 13014,\n",
       "           2327,  2581, 19073,  1116,  1104, 10880,   117,  2489,  1219,   190,\n",
       "           9324,  2116,   117,  1105, 24970,  1105,  2489,  1107,  1103,  1268,\n",
       "           5656,   119,   170,  2754,  1104,  1103,  4091,  8240,  2196,   170,\n",
       "          10548,  1115,  1674,  1136,   175,  1200,  1880, 12477,  6066,  6787,\n",
       "           1105,  1144,  1185,   185, 23415,  3202, 19515, 16234,  2007, 21749,\n",
       "            119,  1103,  7454,  3791,  2848, 22400,  7606,  1111,  1103,  5351,\n",
       "            119,  1103,  6978,  1104,  2168,  1104,  2168,  1104,  1103, 15683,\n",
       "           1549,  5511,  2765,  2095, 11362,   117,  1134,  1104,  1103,  1378,\n",
       "           1108,  1549,   136,   170,   131,  1107,  1864,   117, 13373,  8767,\n",
       "           4184, 10205,   102,     0,     0,     0]]),\n",
       " 'token_type_ids': tensor([[0, 0, 0, 0, 0, 0, 0, 0, 0, 0, 0, 0, 0, 0, 0, 0, 0, 0, 0, 0, 0, 0, 0, 0,\n",
       "          0, 0, 0, 0, 0, 0, 0, 0, 0, 0, 0, 0, 0, 0, 0, 0, 0, 0, 0, 0, 0, 0, 0, 0,\n",
       "          0, 0, 0, 0, 0, 0, 0, 0, 0, 0, 0, 0, 0, 0, 0, 0, 0, 0, 0, 0, 0, 0, 0, 0,\n",
       "          0, 0, 0, 0, 0, 0, 0, 0, 0, 0, 0, 0, 0, 0, 0, 0, 0, 0, 0, 0, 0, 0, 0, 0,\n",
       "          0, 0, 0, 0, 0, 0, 0, 0, 0, 0],\n",
       "         [0, 0, 0, 0, 0, 0, 0, 0, 0, 0, 0, 0, 0, 0, 0, 0, 0, 0, 0, 0, 0, 0, 0, 0,\n",
       "          0, 0, 0, 0, 0, 0, 0, 0, 0, 0, 0, 0, 0, 0, 0, 0, 0, 0, 0, 0, 0, 0, 0, 0,\n",
       "          0, 0, 0, 0, 0, 0, 0, 0, 0, 0, 0, 0, 0, 0, 0, 0, 0, 0, 0, 0, 0, 0, 0, 0,\n",
       "          0, 0, 0, 0, 0, 0, 0, 0, 0, 0, 0, 0, 0, 0, 0, 0, 0, 0, 0, 0, 0, 0, 0, 0,\n",
       "          0, 0, 0, 0, 0, 0, 0, 0, 0, 0],\n",
       "         [0, 0, 0, 0, 0, 0, 0, 0, 0, 0, 0, 0, 0, 0, 0, 0, 0, 0, 0, 0, 0, 0, 0, 0,\n",
       "          0, 0, 0, 0, 0, 0, 0, 0, 0, 0, 0, 0, 0, 0, 0, 0, 0, 0, 0, 0, 0, 0, 0, 0,\n",
       "          0, 0, 0, 0, 0, 0, 0, 0, 0, 0, 0, 0, 0, 0, 0, 0, 0, 0, 0, 0, 0, 0, 0, 0,\n",
       "          0, 0, 0, 0, 0, 0, 0, 0, 0, 0, 0, 0, 0, 0, 0, 0, 0, 0, 0, 0, 0, 0, 0, 0,\n",
       "          0, 0, 0, 0, 0, 0, 0, 0, 0, 0],\n",
       "         [0, 0, 0, 0, 0, 0, 0, 0, 0, 0, 0, 0, 0, 0, 0, 0, 0, 0, 0, 0, 0, 0, 0, 0,\n",
       "          0, 0, 0, 0, 0, 0, 0, 0, 0, 0, 0, 0, 0, 0, 0, 0, 0, 0, 0, 0, 0, 0, 0, 0,\n",
       "          0, 0, 0, 0, 0, 0, 0, 0, 0, 0, 0, 0, 0, 0, 0, 0, 0, 0, 0, 0, 0, 0, 0, 0,\n",
       "          0, 0, 0, 0, 0, 0, 0, 0, 0, 0, 0, 0, 0, 0, 0, 0, 0, 0, 0, 0, 0, 0, 0, 0,\n",
       "          0, 0, 0, 0, 0, 0, 0, 0, 0, 0],\n",
       "         [0, 0, 0, 0, 0, 0, 0, 0, 0, 0, 0, 0, 0, 0, 0, 0, 0, 0, 0, 0, 0, 0, 0, 0,\n",
       "          0, 0, 0, 0, 0, 0, 0, 0, 0, 0, 0, 0, 0, 0, 0, 0, 0, 0, 0, 0, 0, 0, 0, 0,\n",
       "          0, 0, 0, 0, 0, 0, 0, 0, 0, 0, 0, 0, 0, 0, 0, 0, 0, 0, 0, 0, 0, 0, 0, 0,\n",
       "          0, 0, 0, 0, 0, 0, 0, 0, 0, 0, 0, 0, 0, 0, 0, 0, 0, 0, 0, 0, 0, 0, 0, 0,\n",
       "          0, 0, 0, 0, 0, 0, 0, 0, 0, 0]]),\n",
       " 'attention_mask': tensor([[1, 1, 1, 1, 1, 1, 1, 1, 1, 1, 1, 1, 1, 1, 1, 1, 1, 1, 1, 1, 1, 1, 1, 1,\n",
       "          1, 1, 1, 1, 1, 1, 1, 1, 1, 1, 1, 1, 1, 1, 1, 1, 1, 1, 1, 1, 1, 1, 1, 1,\n",
       "          1, 1, 1, 1, 1, 1, 1, 1, 1, 1, 1, 1, 1, 1, 1, 1, 1, 1, 1, 1, 1, 1, 1, 1,\n",
       "          1, 1, 1, 1, 1, 1, 1, 1, 1, 1, 1, 1, 1, 1, 1, 1, 1, 1, 1, 1, 1, 1, 1, 1,\n",
       "          1, 1, 1, 1, 1, 1, 1, 1, 1, 0],\n",
       "         [1, 1, 1, 1, 1, 1, 1, 1, 1, 1, 1, 1, 1, 1, 1, 1, 1, 1, 1, 1, 1, 1, 1, 1,\n",
       "          1, 1, 1, 1, 1, 1, 1, 1, 1, 1, 1, 1, 1, 1, 1, 1, 1, 1, 1, 1, 1, 1, 1, 1,\n",
       "          1, 1, 1, 1, 1, 1, 1, 1, 1, 1, 1, 1, 1, 1, 1, 1, 1, 1, 1, 1, 1, 1, 1, 1,\n",
       "          1, 1, 1, 1, 1, 1, 1, 1, 1, 1, 1, 1, 1, 1, 1, 1, 1, 1, 1, 1, 1, 1, 1, 1,\n",
       "          1, 1, 1, 1, 1, 1, 1, 0, 0, 0],\n",
       "         [1, 1, 1, 1, 1, 1, 1, 1, 1, 1, 1, 1, 1, 1, 1, 1, 1, 1, 1, 1, 1, 1, 1, 1,\n",
       "          1, 1, 1, 1, 1, 1, 1, 1, 1, 1, 1, 1, 1, 1, 1, 1, 1, 1, 1, 1, 1, 1, 1, 1,\n",
       "          1, 1, 1, 1, 1, 1, 1, 1, 1, 1, 1, 1, 1, 1, 1, 1, 1, 1, 1, 1, 1, 1, 1, 1,\n",
       "          1, 1, 1, 1, 1, 1, 1, 1, 1, 1, 1, 1, 1, 1, 1, 1, 1, 1, 1, 1, 1, 1, 1, 1,\n",
       "          1, 1, 1, 1, 1, 1, 1, 1, 1, 1],\n",
       "         [1, 1, 1, 1, 1, 1, 1, 1, 1, 1, 1, 1, 1, 1, 1, 1, 1, 1, 1, 1, 1, 1, 1, 1,\n",
       "          1, 1, 1, 1, 1, 1, 1, 1, 1, 1, 1, 1, 1, 1, 1, 1, 1, 1, 1, 1, 1, 1, 1, 1,\n",
       "          1, 1, 1, 1, 1, 1, 1, 1, 1, 1, 1, 1, 1, 1, 1, 1, 1, 1, 1, 1, 1, 1, 1, 1,\n",
       "          1, 1, 1, 1, 1, 1, 1, 1, 1, 1, 1, 1, 1, 1, 1, 1, 1, 1, 1, 1, 1, 1, 1, 1,\n",
       "          1, 1, 1, 1, 1, 1, 1, 1, 0, 0],\n",
       "         [1, 1, 1, 1, 1, 1, 1, 1, 1, 1, 1, 1, 1, 1, 1, 1, 1, 1, 1, 1, 1, 1, 1, 1,\n",
       "          1, 1, 1, 1, 1, 1, 1, 1, 1, 1, 1, 1, 1, 1, 1, 1, 1, 1, 1, 1, 1, 1, 1, 1,\n",
       "          1, 1, 1, 1, 1, 1, 1, 1, 1, 1, 1, 1, 1, 1, 1, 1, 1, 1, 1, 1, 1, 1, 1, 1,\n",
       "          1, 1, 1, 1, 1, 1, 1, 1, 1, 1, 1, 1, 1, 1, 1, 1, 1, 1, 1, 1, 1, 1, 1, 1,\n",
       "          1, 1, 1, 1, 1, 1, 1, 0, 0, 0]])}"
      ]
     },
     "execution_count": 48,
     "metadata": {},
     "output_type": "execute_result"
    }
   ],
   "source": [
    "lm.preprocess(updated_dataset[0:1])"
   ]
  },
  {
   "cell_type": "code",
   "execution_count": 49,
   "metadata": {},
   "outputs": [
    {
     "name": "stdout",
     "output_type": "stream",
     "text": [
      "Shape of input_ids:\ttorch.Size([50, 499])\n",
      "Shape of logits:\ttorch.Size([50, 499, 28996])\n"
     ]
    }
   ],
   "source": [
    "input_ = lm.preprocess(updated_dataset)\n",
    "outputs = lm._forward(input_)\n",
    "\n",
    "for k, v in outputs.items():\n",
    "    print(f\"Shape of {k}:\\t{v.shape}\")"
   ]
  },
  {
   "cell_type": "code",
   "execution_count": 26,
   "metadata": {},
   "outputs": [
    {
     "data": {
      "text/plain": [
       "Output(loss=array([[1214.4108, 1196.6061, 1232.9644, 1201.0562, 1192.1794],\n",
       "       [3028.9084, 3015.8738, 3101.7854, 3097.1274, 3036.8232],\n",
       "       [2152.7812, 2229.096 , 2155.9805, 2143.7722, 2147.6968],\n",
       "       [1798.1527, 1769.2864, 1823.5278, 1877.3756, 1777.6583],\n",
       "       [2907.4917, 2912.1863, 2890.602 , 2912.61  , 2921.9517],\n",
       "       [3289.5093, 3277.1824, 3264.971 , 3317.948 , 3317.6692],\n",
       "       [1286.4143, 1292.952 , 1278.8005, 1297.5917, 1308.127 ],\n",
       "       [5588.8374, 5621.1724, 5607.1807, 5558.1553, 5570.4688],\n",
       "       [1957.8182, 1873.3116, 1910.833 , 1947.9403, 1907.3387],\n",
       "       [1653.0619, 1659.1809, 1694.7096, 1650.039 , 1657.2186]],\n",
       "      dtype=float32), prediction=array([4, 1, 3, 1, 2, 2, 2, 3, 1, 3], dtype=int64))"
      ]
     },
     "execution_count": 26,
     "metadata": {},
     "output_type": "execute_result"
    }
   ],
   "source": [
    "prediction = lm.postprocess(outputs)\n",
    "prediction"
   ]
  }
 ],
 "metadata": {
  "kernelspec": {
   "display_name": "Python 3",
   "language": "python",
   "name": "python3"
  },
  "language_info": {
   "codemirror_mode": {
    "name": "ipython",
    "version": 3
   },
   "file_extension": ".py",
   "mimetype": "text/x-python",
   "name": "python",
   "nbconvert_exporter": "python",
   "pygments_lexer": "ipython3",
   "version": "3.11.8"
  }
 },
 "nbformat": 4,
 "nbformat_minor": 2
}
